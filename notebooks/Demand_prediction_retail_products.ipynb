{
 "cells": [
  {
   "cell_type": "markdown",
   "metadata": {
    "colab_type": "text",
    "id": "0D2B3jNNmg1Z"
   },
   "source": [
    "# <a>Demand Predictions for Consumable Retail Products<a>"
   ]
  },
  {
   "cell_type": "markdown",
   "metadata": {},
   "source": [
    "## <a name=0>Contents <a/>\n",
    "\n",
    "1. <a href=#1>Problem Statement <a/>\n",
    "\n",
    "2. <a href=#2>Import Libraries <a/>\n",
    "\n",
    "3. <a href=#3>Read and Explore Data <a/>\n",
    "    \n",
    "4. <a href=#4>Data Visualisations <a/>   \n",
    "\n",
    "5. <a href=#5>Feature Engineering<a/>   \n",
    "\n",
    "6. <a href=#6>Train - Validation Split<a/>\n",
    "\n",
    "7. <a href=#7>Model Building<a/>\n",
    "    \n",
    "8. <a href=#8>Test Data Predictions<a/>"
   ]
  },
  {
   "cell_type": "markdown",
   "metadata": {},
   "source": [
    "## <a name=1>Problem Statement<a/>\n",
    "<a href=#0>(Go to Contents)<a/>"
   ]
  },
  {
   "cell_type": "markdown",
   "metadata": {},
   "source": [
    "#### Scenario\n",
    "A large company that manufactures eatables, delivers them through a group of suppliers to retailers of different kinds all over the country. One of the company’s recent sustainable initiatives was to sell eatable products with no preservatives. These consumables have a shelf life of one week.\n",
    "\n",
    "The company, to ensure the quality of its products on retailers’ shelves, creates a program to buy back the remaining products on the shelves of the retailers post expiry (one week). This has significantly increased the company’s operation costs and is also affecting its gross margins.\n",
    "\n",
    "The company has hired you as a data science consultant and provides you with 5 weeks of data. You are now supposed to predict the demand for various products across for the next two weeks. You are also supposed to produce a report using your machine learning model and the 5th week’s data as a validation set to analyze the potential loss in revenue / gain in operational costs.\n",
    "\n",
    "#### Objectives:\n",
    "In this hackathon, you are expected to:\n",
    "1. Generate the target variable ‘demand_projection’\n",
    "2. Build a machine learning / deep learning model, which should predict the demand projection for the records in the test data\n",
    "3. Analyze the predictions of the model, using 4 weeks data, to report the loss of revenue for week 5 if the model was deployed\n",
    "\n",
    "#### Evaluation Metric:\n",
    "The evaluation metric is the ​Root Mean Squared Error (RMSE)"
   ]
  },
  {
   "cell_type": "markdown",
   "metadata": {},
   "source": [
    "## <a name=2>Importing libraries<a/>\n",
    "<a href=#0>(Go to Contents)<a/>"
   ]
  },
  {
   "cell_type": "code",
   "execution_count": null,
   "metadata": {},
   "outputs": [],
   "source": [
    "import os\n",
    "import numpy as np\n",
    "import pandas as pd\n",
    "from sklearn.metrics import mean_squared_error\n",
    "from math import sqrt\n",
    "from sklearn.preprocessing import StandardScaler\n",
    "from sklearn.cluster import KMeans\n",
    "from sklearn.tree import DecisionTreeRegressor\n",
    "from sklearn import ensemble\n",
    "import matplotlib.pyplot as plt\n",
    "%matplotlib inline"
   ]
  },
  {
   "cell_type": "markdown",
   "metadata": {},
   "source": [
    "To get data files from a google drive"
   ]
  },
  {
   "cell_type": "code",
   "execution_count": null,
   "metadata": {
    "colab": {
     "base_uri": "https://localhost:8080/",
     "height": 125
    },
    "colab_type": "code",
    "id": "p2CG__juLG4Y",
    "outputId": "e8f6c6ee-a1bc-4125-fb19-0e0ac68aa39e"
   },
   "outputs": [],
   "source": [
    "#from google.colab import drive\n",
    "\n",
    "#drive.mount('/content/gdrive')"
   ]
  },
  {
   "cell_type": "markdown",
   "metadata": {
    "colab_type": "text",
    "id": "AE5yXfB1Dnd9"
   },
   "source": [
    "Used Google Colab to run the train data analysis due to computational challenges on local machine."
   ]
  },
  {
   "cell_type": "markdown",
   "metadata": {},
   "source": [
    "## <a name=3>Read and Explore data<a/>\n",
    "<a href=#0>(Go to Contents)<a/>"
   ]
  },
  {
   "cell_type": "markdown",
   "metadata": {
    "colab_type": "text",
    "id": "S61tuM7yTtq5"
   },
   "source": [
    "To get training data file from Google Drive"
   ]
  },
  {
   "cell_type": "code",
   "execution_count": null,
   "metadata": {
    "colab": {},
    "colab_type": "code",
    "id": "1HzfUyrwrZeS"
   },
   "outputs": [],
   "source": [
    "#data=pd.read_csv('/content/gdrive/My Drive/train.csv')"
   ]
  },
  {
   "cell_type": "markdown",
   "metadata": {},
   "source": [
    "To get training data from local directory"
   ]
  },
  {
   "cell_type": "code",
   "execution_count": null,
   "metadata": {},
   "outputs": [],
   "source": [
    "os.getcwd()"
   ]
  },
  {
   "cell_type": "code",
   "execution_count": null,
   "metadata": {},
   "outputs": [],
   "source": [
    "data = pd.read_csv('train.csv', sep = ',')"
   ]
  },
  {
   "cell_type": "code",
   "execution_count": 4,
   "metadata": {
    "colab": {
     "base_uri": "https://localhost:8080/",
     "height": 34
    },
    "colab_type": "code",
    "id": "n78cQR4rT9qG",
    "outputId": "89821a30-d712-4bea-f285-958cf74ccb1f"
   },
   "outputs": [
    {
     "data": {
      "text/plain": [
       "(53364883, 10)"
      ]
     },
     "execution_count": 4,
     "metadata": {
      "tags": []
     },
     "output_type": "execute_result"
    }
   ],
   "source": [
    "data.shape"
   ]
  },
  {
   "cell_type": "markdown",
   "metadata": {
    "colab_type": "text",
    "id": "5X4fRb8dTxFR"
   },
   "source": [
    "#### Let's drop duplicate samples if any"
   ]
  },
  {
   "cell_type": "code",
   "execution_count": 5,
   "metadata": {
    "colab": {
     "base_uri": "https://localhost:8080/",
     "height": 34
    },
    "colab_type": "code",
    "id": "zYV4t9eUT6vW",
    "outputId": "bfc39809-6cd6-4490-c07c-ce1b4db0a9d5"
   },
   "outputs": [
    {
     "data": {
      "text/plain": [
       "(53364735, 10)"
      ]
     },
     "execution_count": 5,
     "metadata": {
      "tags": []
     },
     "output_type": "execute_result"
    }
   ],
   "source": [
    "data=data.drop_duplicates()\n",
    "data.shape"
   ]
  },
  {
   "cell_type": "code",
   "execution_count": null,
   "metadata": {
    "colab": {},
    "colab_type": "code",
    "id": "R44KU9KjUOnT"
   },
   "outputs": [],
   "source": [
    "data=data.reset_index(drop=True)"
   ]
  },
  {
   "cell_type": "markdown",
   "metadata": {
    "colab_type": "text",
    "id": "-pCFaVk8UWPw"
   },
   "source": [
    "#### Check the datatypes"
   ]
  },
  {
   "cell_type": "code",
   "execution_count": null,
   "metadata": {
    "colab": {
     "base_uri": "https://localhost:8080/",
     "height": 283
    },
    "colab_type": "code",
    "id": "d462CGloUOSi",
    "outputId": "f0b5e0f2-4277-44ff-a614-7bb85546b81d"
   },
   "outputs": [
    {
     "name": "stdout",
     "output_type": "stream",
     "text": [
      "<class 'pandas.core.frame.DataFrame'>\n",
      "Int64Index: 53364735 entries, 0 to 53364882\n",
      "Data columns (total 10 columns):\n",
      "experiment_week                object\n",
      "channel_type                   object\n",
      "num_units_sold_in_week         int64\n",
      "sales_revenue_in_week          float64\n",
      "num_units_returned             int64\n",
      "returned_units_revenue_loss    float64\n",
      "store_identifier               object\n",
      "product_identifier             object\n",
      "category_of_route              object\n",
      "supplier_identifier            object\n",
      "dtypes: float64(2), int64(2), object(6)\n",
      "memory usage: 4.4+ GB\n"
     ]
    }
   ],
   "source": [
    "data.info()"
   ]
  },
  {
   "cell_type": "markdown",
   "metadata": {
    "colab_type": "text",
    "id": "w__RwM82UhbT"
   },
   "source": [
    "**Checking for NA values**"
   ]
  },
  {
   "cell_type": "code",
   "execution_count": null,
   "metadata": {
    "colab": {
     "base_uri": "https://localhost:8080/",
     "height": 212
    },
    "colab_type": "code",
    "id": "ipKj_MovUhU2",
    "outputId": "a660a915-6320-458c-86ef-18864bdc9984"
   },
   "outputs": [
    {
     "data": {
      "text/plain": [
       "experiment_week                0\n",
       "channel_type                   0\n",
       "num_units_sold_in_week         0\n",
       "sales_revenue_in_week          0\n",
       "num_units_returned             0\n",
       "returned_units_revenue_loss    0\n",
       "store_identifier               0\n",
       "product_identifier             0\n",
       "category_of_route              0\n",
       "supplier_identifier            0\n",
       "dtype: int64"
      ]
     },
     "execution_count": 8,
     "metadata": {
      "tags": []
     },
     "output_type": "execute_result"
    }
   ],
   "source": [
    "data.isnull().sum()"
   ]
  },
  {
   "cell_type": "markdown",
   "metadata": {
    "colab_type": "text",
    "id": "V4S7kjKbU8k3"
   },
   "source": [
    "**Let's look at the number of unique entries in each column**"
   ]
  },
  {
   "cell_type": "code",
   "execution_count": null,
   "metadata": {
    "colab": {
     "base_uri": "https://localhost:8080/",
     "height": 372
    },
    "colab_type": "code",
    "id": "Fe9kN9eZUhQo",
    "outputId": "56cc989d-ed90-40bc-ee2a-45e0f4faeae7"
   },
   "outputs": [
    {
     "name": "stdout",
     "output_type": "stream",
     "text": [
      "experiment_week\n",
      "5\n",
      "channel_type\n",
      "9\n",
      "num_units_sold_in_week\n",
      "1883\n",
      "sales_revenue_in_week\n",
      "69844\n",
      "num_units_returned\n",
      "497\n",
      "returned_units_revenue_loss\n",
      "13040\n",
      "store_identifier\n",
      "587773\n",
      "product_identifier\n",
      "1736\n",
      "category_of_route\n",
      "3490\n",
      "supplier_identifier\n",
      "552\n"
     ]
    }
   ],
   "source": [
    "for i in data.columns:\n",
    "    print(i)\n",
    "    print(data[i].nunique())"
   ]
  },
  {
   "cell_type": "markdown",
   "metadata": {
    "colab_type": "text",
    "id": "NcpVfKrTVEPZ"
   },
   "source": [
    "**As Channel type has 9 unique values, we will convert the datatype to Category**"
   ]
  },
  {
   "cell_type": "code",
   "execution_count": null,
   "metadata": {
    "colab": {},
    "colab_type": "code",
    "id": "XxBGULQcUhKb"
   },
   "outputs": [],
   "source": [
    "data.channel_type = data.channel_type.astype('category')"
   ]
  },
  {
   "cell_type": "code",
   "execution_count": null,
   "metadata": {
    "colab": {
     "base_uri": "https://localhost:8080/",
     "height": 212
    },
    "colab_type": "code",
    "id": "aJM4m-kSVLBX",
    "outputId": "04193474-24a0-4611-adb0-440e06dc1970"
   },
   "outputs": [
    {
     "data": {
      "text/plain": [
       "experiment_week                  object\n",
       "channel_type                   category\n",
       "num_units_sold_in_week            int64\n",
       "sales_revenue_in_week           float64\n",
       "num_units_returned                int64\n",
       "returned_units_revenue_loss     float64\n",
       "store_identifier                 object\n",
       "product_identifier               object\n",
       "category_of_route                object\n",
       "supplier_identifier              object\n",
       "dtype: object"
      ]
     },
     "execution_count": 11,
     "metadata": {
      "tags": []
     },
     "output_type": "execute_result"
    }
   ],
   "source": [
    "data.dtypes"
   ]
  },
  {
   "cell_type": "markdown",
   "metadata": {
    "colab_type": "text",
    "id": "aotqo00cVRCu"
   },
   "source": [
    "**Statistical summary of the data using describe function**"
   ]
  },
  {
   "cell_type": "code",
   "execution_count": null,
   "metadata": {
    "colab": {},
    "colab_type": "code",
    "id": "VrDTWBeMu1jq"
   },
   "outputs": [],
   "source": [
    "pd.set_option('float_format', '{:f}'.format) # to display numerical values in float format instead of engineering notation"
   ]
  },
  {
   "cell_type": "markdown",
   "metadata": {
    "colab_type": "text",
    "id": "HKd1kHPeVVee"
   },
   "source": [
    "We can see that num_units_returned and returned_units_revenue_loss have zeros even upto third quartile"
   ]
  },
  {
   "cell_type": "code",
   "execution_count": null,
   "metadata": {
    "colab": {
     "base_uri": "https://localhost:8080/",
     "height": 287
    },
    "colab_type": "code",
    "id": "cntLv4o7VVA2",
    "outputId": "2b513e1b-daee-4d4a-9663-b155e6bc869b"
   },
   "outputs": [
    {
     "data": {
      "text/html": [
       "<div>\n",
       "<style scoped>\n",
       "    .dataframe tbody tr th:only-of-type {\n",
       "        vertical-align: middle;\n",
       "    }\n",
       "\n",
       "    .dataframe tbody tr th {\n",
       "        vertical-align: top;\n",
       "    }\n",
       "\n",
       "    .dataframe thead th {\n",
       "        text-align: right;\n",
       "    }\n",
       "</style>\n",
       "<table border=\"1\" class=\"dataframe\">\n",
       "  <thead>\n",
       "    <tr style=\"text-align: right;\">\n",
       "      <th></th>\n",
       "      <th>num_units_sold_in_week</th>\n",
       "      <th>sales_revenue_in_week</th>\n",
       "      <th>num_units_returned</th>\n",
       "      <th>returned_units_revenue_loss</th>\n",
       "    </tr>\n",
       "  </thead>\n",
       "  <tbody>\n",
       "    <tr>\n",
       "      <th>count</th>\n",
       "      <td>53364735.000000</td>\n",
       "      <td>53364735.000000</td>\n",
       "      <td>53364735.000000</td>\n",
       "      <td>53364735.000000</td>\n",
       "    </tr>\n",
       "    <tr>\n",
       "      <th>mean</th>\n",
       "      <td>7.304098</td>\n",
       "      <td>1027.446212</td>\n",
       "      <td>0.123093</td>\n",
       "      <td>1.219571</td>\n",
       "    </tr>\n",
       "    <tr>\n",
       "      <th>std</th>\n",
       "      <td>21.897584</td>\n",
       "      <td>5128.569606</td>\n",
       "      <td>4.223180</td>\n",
       "      <td>39.327517</td>\n",
       "    </tr>\n",
       "    <tr>\n",
       "      <th>min</th>\n",
       "      <td>0.000000</td>\n",
       "      <td>0.000000</td>\n",
       "      <td>0.000000</td>\n",
       "      <td>0.000000</td>\n",
       "    </tr>\n",
       "    <tr>\n",
       "      <th>25%</th>\n",
       "      <td>2.000000</td>\n",
       "      <td>251.400000</td>\n",
       "      <td>0.000000</td>\n",
       "      <td>0.000000</td>\n",
       "    </tr>\n",
       "    <tr>\n",
       "      <th>50%</th>\n",
       "      <td>3.000000</td>\n",
       "      <td>450.000000</td>\n",
       "      <td>0.000000</td>\n",
       "      <td>0.000000</td>\n",
       "    </tr>\n",
       "    <tr>\n",
       "      <th>75%</th>\n",
       "      <td>7.000000</td>\n",
       "      <td>843.750000</td>\n",
       "      <td>0.000000</td>\n",
       "      <td>0.000000</td>\n",
       "    </tr>\n",
       "    <tr>\n",
       "      <th>max</th>\n",
       "      <td>5000.000000</td>\n",
       "      <td>9710400.000000</td>\n",
       "      <td>16345.000000</td>\n",
       "      <td>130760.000000</td>\n",
       "    </tr>\n",
       "  </tbody>\n",
       "</table>\n",
       "</div>"
      ],
      "text/plain": [
       "       num_units_sold_in_week  ...  returned_units_revenue_loss\n",
       "count         53364735.000000  ...              53364735.000000\n",
       "mean                 7.304098  ...                     1.219571\n",
       "std                 21.897584  ...                    39.327517\n",
       "min                  0.000000  ...                     0.000000\n",
       "25%                  2.000000  ...                     0.000000\n",
       "50%                  3.000000  ...                     0.000000\n",
       "75%                  7.000000  ...                     0.000000\n",
       "max               5000.000000  ...                130760.000000\n",
       "\n",
       "[8 rows x 4 columns]"
      ]
     },
     "execution_count": 13,
     "metadata": {
      "tags": []
     },
     "output_type": "execute_result"
    }
   ],
   "source": [
    "data.describe()"
   ]
  },
  {
   "cell_type": "markdown",
   "metadata": {
    "colab_type": "text",
    "id": "wU7OX71xVoXT"
   },
   "source": [
    "**Looking at the distributions in each column**\n",
    "1. We can see the channel type, Grocery stores is largely populated in our dataset compared to other channel types.\n",
    "2. Number of units returned, Revenue loss is 0 for most of the samples."
   ]
  },
  {
   "cell_type": "code",
   "execution_count": null,
   "metadata": {
    "colab": {
     "base_uri": "https://localhost:8080/",
     "height": 1000
    },
    "colab_type": "code",
    "id": "92yQMbRjVzY_",
    "outputId": "244b64c1-a000-4f42-813e-2a2e3fb25f86"
   },
   "outputs": [
    {
     "name": "stdout",
     "output_type": "stream",
     "text": [
      "Week 1 of 2019    11165173\n",
      "Week 2 of 2019    11009563\n",
      "Week 3 of 2019    10615367\n",
      "Week 5 of 2019    10382826\n",
      "Week 4 of 2019    10191806\n",
      "Name: experiment_week, dtype: int64\n",
      "\n",
      "\n",
      "Grocery Stores          48547107\n",
      "Supermarkets             2697418\n",
      "Department Stores         682091\n",
      "Specialty Retailers       603205\n",
      "Warehouse Retailers       488224\n",
      "Wholesale Retailers       193696\n",
      "Convenience Retailer      104175\n",
      "Discount Retailer          48549\n",
      "Internet Retailers           270\n",
      "Name: channel_type, dtype: int64\n",
      "\n",
      "\n",
      "2       11037195\n",
      "1        9611035\n",
      "3        6705100\n",
      "4        5249567\n",
      "5        4122350\n",
      "          ...   \n",
      "1644           1\n",
      "1643           1\n",
      "1631           1\n",
      "1627           1\n",
      "5000           1\n",
      "Name: num_units_sold_in_week, Length: 1883, dtype: int64\n",
      "\n",
      "\n",
      "251.400000      916988\n",
      "229.200000      856706\n",
      "125.700000      820561\n",
      "122.250000      607444\n",
      "114.600000      597967\n",
      "                 ...  \n",
      "11652.450000         1\n",
      "11707.200000         1\n",
      "11726.550000         1\n",
      "11701.200000         1\n",
      "34003.200000         1\n",
      "Name: sales_revenue_in_week, Length: 69844, dtype: int64\n",
      "\n",
      "\n",
      "0        51605348\n",
      "1          872420\n",
      "2          355101\n",
      "3          152863\n",
      "4           89667\n",
      "           ...   \n",
      "417             1\n",
      "423             1\n",
      "427             1\n",
      "432             1\n",
      "16345           1\n",
      "Name: num_units_returned, Length: 497, dtype: int64\n",
      "\n",
      "\n",
      "0.000000       51605348\n",
      "8.380000          73281\n",
      "7.640000          44036\n",
      "16.670000         39729\n",
      "15.010000         37624\n",
      "                 ...   \n",
      "1393.600000           1\n",
      "1348.650000           1\n",
      "1346.400000           1\n",
      "1373.600000           1\n",
      "242.100000            1\n",
      "Name: returned_units_revenue_loss, Length: 13040, dtype: int64\n",
      "\n",
      "\n",
      "store_384b1    88430\n",
      "store_51889     3798\n",
      "store_dccff     1880\n",
      "store_7a247     1285\n",
      "store_7a6b1     1086\n",
      "               ...  \n",
      "store_2decc        1\n",
      "store_69476        1\n",
      "store_9ab88        1\n",
      "store_60502        1\n",
      "store_e3f35        1\n",
      "Name: store_identifier, Length: 587773, dtype: int64\n",
      "\n",
      "\n",
      "product_1c00e    1560860\n",
      "product_55001    1492924\n",
      "product_bcac3    1387937\n",
      "product_dfcaf    1352850\n",
      "product_da957    1243643\n",
      "                  ...   \n",
      "product_05a8a          1\n",
      "product_cbe8f          1\n",
      "product_80eb5          1\n",
      "product_77b76          1\n",
      "product_406ac          1\n",
      "Name: product_identifier, Length: 1736, dtype: int64\n",
      "\n",
      "\n",
      "route_3b474    337586\n",
      "route_7ac25    320427\n",
      "route_da26b    310711\n",
      "route_0af7d    304308\n",
      "route_2cec8    299558\n",
      "                ...  \n",
      "route_43f04         1\n",
      "route_7b77b         1\n",
      "route_e19a9         1\n",
      "route_1d87b         1\n",
      "route_c738b         1\n",
      "Name: category_of_route, Length: 3490, dtype: int64\n",
      "\n",
      "\n",
      "supplier_identifier_dc4bc    582417\n",
      "supplier_identifier_4739e    525776\n",
      "supplier_identifier_f79b8    479621\n",
      "supplier_identifier_7931a    477182\n",
      "supplier_identifier_f74fe    435762\n",
      "                              ...  \n",
      "supplier_identifier_8e9b6       341\n",
      "supplier_identifier_a7be8       210\n",
      "supplier_identifier_21639       172\n",
      "supplier_identifier_2e261       157\n",
      "supplier_identifier_77523        21\n",
      "Name: supplier_identifier, Length: 552, dtype: int64\n",
      "\n",
      "\n"
     ]
    }
   ],
   "source": [
    "for i in data.columns:\n",
    "  print(data[i].value_counts())\n",
    "  print('\\n')"
   ]
  },
  {
   "cell_type": "markdown",
   "metadata": {
    "colab_type": "text",
    "id": "4kMIi42VES5n"
   },
   "source": [
    "**Create a new column for Demand Projection**\n",
    "\n",
    "demand_projection = num_units_sold_in_week - num_units_returned"
   ]
  },
  {
   "cell_type": "code",
   "execution_count": null,
   "metadata": {
    "colab": {},
    "colab_type": "code",
    "id": "OwAgXHzcERSj"
   },
   "outputs": [],
   "source": [
    "data['demand_projection'] = data.num_units_sold_in_week - data.num_units_returned"
   ]
  },
  {
   "cell_type": "code",
   "execution_count": 10,
   "metadata": {
    "colab": {
     "base_uri": "https://localhost:8080/",
     "height": 207
    },
    "colab_type": "code",
    "id": "8TDnaz1UVeph",
    "outputId": "5492f2d2-b16d-4f9c-ac10-80079f2087f9"
   },
   "outputs": [
    {
     "data": {
      "text/html": [
       "<div>\n",
       "<style scoped>\n",
       "    .dataframe tbody tr th:only-of-type {\n",
       "        vertical-align: middle;\n",
       "    }\n",
       "\n",
       "    .dataframe tbody tr th {\n",
       "        vertical-align: top;\n",
       "    }\n",
       "\n",
       "    .dataframe thead th {\n",
       "        text-align: right;\n",
       "    }\n",
       "</style>\n",
       "<table border=\"1\" class=\"dataframe\">\n",
       "  <thead>\n",
       "    <tr style=\"text-align: right;\">\n",
       "      <th></th>\n",
       "      <th>experiment_week</th>\n",
       "      <th>channel_type</th>\n",
       "      <th>num_units_sold_in_week</th>\n",
       "      <th>sales_revenue_in_week</th>\n",
       "      <th>num_units_returned</th>\n",
       "      <th>returned_units_revenue_loss</th>\n",
       "      <th>store_identifier</th>\n",
       "      <th>product_identifier</th>\n",
       "      <th>category_of_route</th>\n",
       "      <th>supplier_identifier</th>\n",
       "      <th>demand_projection</th>\n",
       "    </tr>\n",
       "  </thead>\n",
       "  <tbody>\n",
       "    <tr>\n",
       "      <th>0</th>\n",
       "      <td>Week 1 of 2019</td>\n",
       "      <td>Warehouse Retailers</td>\n",
       "      <td>3</td>\n",
       "      <td>377.100000</td>\n",
       "      <td>0</td>\n",
       "      <td>0.000000</td>\n",
       "      <td>store_fc6aa</td>\n",
       "      <td>product_cbfad</td>\n",
       "      <td>route_67047</td>\n",
       "      <td>supplier_identifier_055f7</td>\n",
       "      <td>3</td>\n",
       "    </tr>\n",
       "    <tr>\n",
       "      <th>1</th>\n",
       "      <td>Week 1 of 2019</td>\n",
       "      <td>Warehouse Retailers</td>\n",
       "      <td>4</td>\n",
       "      <td>502.800000</td>\n",
       "      <td>0</td>\n",
       "      <td>0.000000</td>\n",
       "      <td>store_fc6aa</td>\n",
       "      <td>product_2b363</td>\n",
       "      <td>route_67047</td>\n",
       "      <td>supplier_identifier_055f7</td>\n",
       "      <td>4</td>\n",
       "    </tr>\n",
       "    <tr>\n",
       "      <th>2</th>\n",
       "      <td>Week 1 of 2019</td>\n",
       "      <td>Warehouse Retailers</td>\n",
       "      <td>4</td>\n",
       "      <td>589.800000</td>\n",
       "      <td>0</td>\n",
       "      <td>0.000000</td>\n",
       "      <td>store_fc6aa</td>\n",
       "      <td>product_8de14</td>\n",
       "      <td>route_67047</td>\n",
       "      <td>supplier_identifier_055f7</td>\n",
       "      <td>4</td>\n",
       "    </tr>\n",
       "  </tbody>\n",
       "</table>\n",
       "</div>"
      ],
      "text/plain": [
       "  experiment_week  ... demand_projection\n",
       "0  Week 1 of 2019  ...                 3\n",
       "1  Week 1 of 2019  ...                 4\n",
       "2  Week 1 of 2019  ...                 4\n",
       "\n",
       "[3 rows x 11 columns]"
      ]
     },
     "execution_count": 10,
     "metadata": {
      "tags": []
     },
     "output_type": "execute_result"
    }
   ],
   "source": [
    "data.head(3)"
   ]
  },
  {
   "cell_type": "markdown",
   "metadata": {
    "colab_type": "text",
    "id": "dOFGOV4sWgfL"
   },
   "source": [
    "## <a name=4>Data Visualisations<a/>\n",
    "<a href=#0>(Go to Contents)<a/>"
   ]
  },
  {
   "cell_type": "markdown",
   "metadata": {
    "colab_type": "text",
    "id": "nrqwnUbuYOQj"
   },
   "source": [
    "Used **Tableau** to generate necessary plots"
   ]
  },
  {
   "cell_type": "markdown",
   "metadata": {
    "colab_type": "text",
    "id": "tWkyDmnjWeTK"
   },
   "source": [
    "**Total Sales Revenue for each week**"
   ]
  },
  {
   "cell_type": "markdown",
   "metadata": {
    "colab_type": "text",
    "id": "meJOsE11Wv4Z"
   },
   "source": [
    "![alt text](https://drive.google.com/uc?id=1jZCwQFtvGX39lAT-jCiksaWSSX6yzoX0)"
   ]
  },
  {
   "cell_type": "markdown",
   "metadata": {
    "colab_type": "text",
    "id": "CxI4KfryW6Zi"
   },
   "source": [
    "**Percentage change in Sales Revenue for each week**"
   ]
  },
  {
   "cell_type": "markdown",
   "metadata": {
    "colab_type": "text",
    "id": "XxsSpJThYI7-"
   },
   "source": [
    "The Overall Sales Revenue have increased by 1% for Week 2. For Weeks 3, 4 there has been drop in Sales Revenue by 3.6% on average. However, the Sales have picked up for Week 5 by 2.9%."
   ]
  },
  {
   "cell_type": "markdown",
   "metadata": {
    "colab_type": "text",
    "id": "6tLqoY7SW70N"
   },
   "source": [
    "![alt text](https://drive.google.com/uc?id=1MimYfhKaXynMBZDHYbu61UVA6TUCIlcQ)"
   ]
  },
  {
   "cell_type": "markdown",
   "metadata": {
    "colab_type": "text",
    "id": "j0LwQqECXDrp"
   },
   "source": [
    "**Channel-wise % Increase in Weekly Sales Revenue**"
   ]
  },
  {
   "cell_type": "markdown",
   "metadata": {
    "colab_type": "text",
    "id": "L4CdJ5aLYFO-"
   },
   "source": [
    "For Week 3, Discount Retailers, Internet Retailers post increase in Sales Revenue as opposed to the total market where sales decreased by 3%. For Week 4, Specialty Retailers have increased Sales contrary to the total Sales behaviour."
   ]
  },
  {
   "cell_type": "markdown",
   "metadata": {
    "colab_type": "text",
    "id": "eOEtepA_XFk_"
   },
   "source": [
    "![alt text](https://drive.google.com/uc?id=1APewO42ThnxWNpuo4HzPRb2tpc9NeX9o)"
   ]
  },
  {
   "cell_type": "markdown",
   "metadata": {
    "colab_type": "text",
    "id": "dYcAClZ-YmZf"
   },
   "source": [
    "**Sales Volume across channels for Week 1**"
   ]
  },
  {
   "cell_type": "markdown",
   "metadata": {
    "colab_type": "text",
    "id": "43nMrFdIY57i"
   },
   "source": [
    "Just looking at Week 1 Revenue, the market share of Grocery Store is 63%, Specialty Retailers is 17%, Supermarkets is 9%, the rest of the channels constituting of 11%"
   ]
  },
  {
   "cell_type": "markdown",
   "metadata": {
    "colab_type": "text",
    "id": "sM-RFvRcYrN2"
   },
   "source": [
    "![alt text](https://drive.google.com/uc?id=1XlC39kFaqxTADkqDrUg4k3c58vAYiT91)"
   ]
  },
  {
   "cell_type": "markdown",
   "metadata": {
    "colab_type": "text",
    "id": "-W_vSxePXFIf"
   },
   "source": [
    "**Channel-wise Average Sales Revenue over the weeks**"
   ]
  },
  {
   "cell_type": "markdown",
   "metadata": {
    "colab_type": "text",
    "id": "ri1q589bYAAt"
   },
   "source": [
    "Although Grocery Stores have the largest market share, the average sales values is the lowest among all the channels. Interestingly, Internet Retailers have the highest average sales despite the lowest market volumes."
   ]
  },
  {
   "cell_type": "markdown",
   "metadata": {
    "colab_type": "text",
    "id": "1plpBuEsXE26"
   },
   "source": [
    "![alt text](https://drive.google.com/uc?id=1ZBFjqI9r5DrvIbyrs0OViNRtKT_HxBYp)"
   ]
  },
  {
   "cell_type": "markdown",
   "metadata": {
    "colab_type": "text",
    "id": "wHqf0qSQXUFr"
   },
   "source": [
    "**Looking at the Sales Revenue Distribution for Week 1**"
   ]
  },
  {
   "cell_type": "markdown",
   "metadata": {
    "colab_type": "text",
    "id": "HMsoNVf5XT5d"
   },
   "source": [
    "![alt text](https://drive.google.com/uc?id=1_Je6MSTGDoyhpdgauuVfFOhaZT6yNXOr)"
   ]
  },
  {
   "cell_type": "markdown",
   "metadata": {
    "colab_type": "text",
    "id": "r9DxKPDcXToe"
   },
   "source": [
    "**As the above distribution is Right-skewed, we can do Log transformation on Sales Revenue column**"
   ]
  },
  {
   "cell_type": "markdown",
   "metadata": {
    "colab_type": "text",
    "id": "fSv9EfbEVewq"
   },
   "source": [
    "![alt text](https://drive.google.com/uc?id=1zLObaWnC42161G6sPeWFjI_0AkzZlr9h)"
   ]
  },
  {
   "cell_type": "markdown",
   "metadata": {
    "colab_type": "text",
    "id": "WKyG0zp_Ec9P"
   },
   "source": [
    "**Total Demand projection each week**"
   ]
  },
  {
   "cell_type": "markdown",
   "metadata": {
    "colab_type": "text",
    "id": "pjyaTS7bEi3h"
   },
   "source": [
    "![alt text](https://drive.google.com/uc?id=1yWbgmWbYv598L1UI-Kgw8tHz4WWk832B)"
   ]
  },
  {
   "cell_type": "markdown",
   "metadata": {
    "colab_type": "text",
    "id": "ij-fF1feEixk"
   },
   "source": [
    "**Channel-wise total demand for week 1**"
   ]
  },
  {
   "cell_type": "markdown",
   "metadata": {
    "colab_type": "text",
    "id": "MMqAPu_aEitV"
   },
   "source": [
    "![alt text](https://drive.google.com/uc?id=1-SP0qGQH8C7e3Twbf2hAGIJXDHWflwmm)"
   ]
  },
  {
   "cell_type": "markdown",
   "metadata": {
    "colab_type": "text",
    "id": "MHR8W77yFJw6"
   },
   "source": [
    "**Channel-wise % Difference in Total demand**"
   ]
  },
  {
   "cell_type": "markdown",
   "metadata": {
    "colab_type": "text",
    "id": "Ud6xU0MEGQQI"
   },
   "source": [
    "![alt text](https://drive.google.com/uc?id=13nTekvVx_7mhcjvPMgYm8c2jEEXhC6Jy)"
   ]
  },
  {
   "cell_type": "markdown",
   "metadata": {
    "colab_type": "text",
    "id": "pN_R2h2YFXo9"
   },
   "source": [
    "## <a name=5>Feature Engineering<a/>\n",
    "<a href=#0>(Go to Contents)<a/>"
   ]
  },
  {
   "cell_type": "markdown",
   "metadata": {
    "colab_type": "text",
    "id": "nLjKLfomZ8Lz"
   },
   "source": [
    "**For non-numerical columns like store, product, route, supplier, we can cluster each of them based on the demand projection and revenue loss**"
   ]
  },
  {
   "cell_type": "markdown",
   "metadata": {
    "colab_type": "text",
    "id": "H8kJ7aHIa4QA"
   },
   "source": [
    "**Store Identifier**"
   ]
  },
  {
   "cell_type": "code",
   "execution_count": null,
   "metadata": {
    "colab": {
     "base_uri": "https://localhost:8080/",
     "height": 227
    },
    "colab_type": "code",
    "id": "xX7vYnPYaTHN",
    "outputId": "f5663a07-bf57-41a1-ceee-1b1b26b8e195"
   },
   "outputs": [
    {
     "data": {
      "text/html": [
       "<div>\n",
       "<style scoped>\n",
       "    .dataframe tbody tr th:only-of-type {\n",
       "        vertical-align: middle;\n",
       "    }\n",
       "\n",
       "    .dataframe tbody tr th {\n",
       "        vertical-align: top;\n",
       "    }\n",
       "\n",
       "    .dataframe thead th {\n",
       "        text-align: right;\n",
       "    }\n",
       "</style>\n",
       "<table border=\"1\" class=\"dataframe\">\n",
       "  <thead>\n",
       "    <tr style=\"text-align: right;\">\n",
       "      <th></th>\n",
       "      <th>num_units_sold_in_week</th>\n",
       "      <th>sales_revenue_in_week</th>\n",
       "      <th>num_units_returned</th>\n",
       "      <th>returned_units_revenue_loss</th>\n",
       "      <th>demand_projection</th>\n",
       "    </tr>\n",
       "    <tr>\n",
       "      <th>store_identifier</th>\n",
       "      <th></th>\n",
       "      <th></th>\n",
       "      <th></th>\n",
       "      <th></th>\n",
       "      <th></th>\n",
       "    </tr>\n",
       "  </thead>\n",
       "  <tbody>\n",
       "    <tr>\n",
       "      <th>store_00000</th>\n",
       "      <td>109</td>\n",
       "      <td>5806.050000</td>\n",
       "      <td>1</td>\n",
       "      <td>19.940000</td>\n",
       "      <td>108</td>\n",
       "    </tr>\n",
       "    <tr>\n",
       "      <th>store_00001</th>\n",
       "      <td>1136</td>\n",
       "      <td>141572.700000</td>\n",
       "      <td>6</td>\n",
       "      <td>61.400000</td>\n",
       "      <td>1130</td>\n",
       "    </tr>\n",
       "    <tr>\n",
       "      <th>store_00002</th>\n",
       "      <td>909</td>\n",
       "      <td>120868.050000</td>\n",
       "      <td>1</td>\n",
       "      <td>11.910000</td>\n",
       "      <td>908</td>\n",
       "    </tr>\n",
       "    <tr>\n",
       "      <th>store_00007</th>\n",
       "      <td>3126</td>\n",
       "      <td>364241.550000</td>\n",
       "      <td>12</td>\n",
       "      <td>133.210000</td>\n",
       "      <td>3114</td>\n",
       "    </tr>\n",
       "    <tr>\n",
       "      <th>store_00009</th>\n",
       "      <td>180</td>\n",
       "      <td>26883.150000</td>\n",
       "      <td>5</td>\n",
       "      <td>92.380000</td>\n",
       "      <td>175</td>\n",
       "    </tr>\n",
       "  </tbody>\n",
       "</table>\n",
       "</div>"
      ],
      "text/plain": [
       "                  num_units_sold_in_week  ...  demand_projection\n",
       "store_identifier                          ...                   \n",
       "store_00000                          109  ...                108\n",
       "store_00001                         1136  ...               1130\n",
       "store_00002                          909  ...                908\n",
       "store_00007                         3126  ...               3114\n",
       "store_00009                          180  ...                175\n",
       "\n",
       "[5 rows x 5 columns]"
      ]
     },
     "execution_count": 18,
     "metadata": {
      "tags": []
     },
     "output_type": "execute_result"
    }
   ],
   "source": [
    "store = data.groupby(['store_identifier']).sum()\n",
    "store.head()"
   ]
  },
  {
   "cell_type": "code",
   "execution_count": null,
   "metadata": {
    "colab": {
     "base_uri": "https://localhost:8080/",
     "height": 197
    },
    "colab_type": "code",
    "id": "S4W3FdEOaTB5",
    "outputId": "bf99d1a1-558a-49b2-d8d7-9d4b951a3cef"
   },
   "outputs": [
    {
     "data": {
      "text/html": [
       "<div>\n",
       "<style scoped>\n",
       "    .dataframe tbody tr th:only-of-type {\n",
       "        vertical-align: middle;\n",
       "    }\n",
       "\n",
       "    .dataframe tbody tr th {\n",
       "        vertical-align: top;\n",
       "    }\n",
       "\n",
       "    .dataframe thead th {\n",
       "        text-align: right;\n",
       "    }\n",
       "</style>\n",
       "<table border=\"1\" class=\"dataframe\">\n",
       "  <thead>\n",
       "    <tr style=\"text-align: right;\">\n",
       "      <th></th>\n",
       "      <th>store_identifier</th>\n",
       "      <th>num_units_sold_in_week</th>\n",
       "      <th>sales_revenue_in_week</th>\n",
       "      <th>num_units_returned</th>\n",
       "      <th>returned_units_revenue_loss</th>\n",
       "      <th>demand_projection</th>\n",
       "    </tr>\n",
       "  </thead>\n",
       "  <tbody>\n",
       "    <tr>\n",
       "      <th>0</th>\n",
       "      <td>store_00000</td>\n",
       "      <td>109</td>\n",
       "      <td>5806.050000</td>\n",
       "      <td>1</td>\n",
       "      <td>19.940000</td>\n",
       "      <td>108</td>\n",
       "    </tr>\n",
       "    <tr>\n",
       "      <th>1</th>\n",
       "      <td>store_00001</td>\n",
       "      <td>1136</td>\n",
       "      <td>141572.700000</td>\n",
       "      <td>6</td>\n",
       "      <td>61.400000</td>\n",
       "      <td>1130</td>\n",
       "    </tr>\n",
       "    <tr>\n",
       "      <th>2</th>\n",
       "      <td>store_00002</td>\n",
       "      <td>909</td>\n",
       "      <td>120868.050000</td>\n",
       "      <td>1</td>\n",
       "      <td>11.910000</td>\n",
       "      <td>908</td>\n",
       "    </tr>\n",
       "    <tr>\n",
       "      <th>3</th>\n",
       "      <td>store_00007</td>\n",
       "      <td>3126</td>\n",
       "      <td>364241.550000</td>\n",
       "      <td>12</td>\n",
       "      <td>133.210000</td>\n",
       "      <td>3114</td>\n",
       "    </tr>\n",
       "    <tr>\n",
       "      <th>4</th>\n",
       "      <td>store_00009</td>\n",
       "      <td>180</td>\n",
       "      <td>26883.150000</td>\n",
       "      <td>5</td>\n",
       "      <td>92.380000</td>\n",
       "      <td>175</td>\n",
       "    </tr>\n",
       "  </tbody>\n",
       "</table>\n",
       "</div>"
      ],
      "text/plain": [
       "  store_identifier  ...  demand_projection\n",
       "0      store_00000  ...                108\n",
       "1      store_00001  ...               1130\n",
       "2      store_00002  ...                908\n",
       "3      store_00007  ...               3114\n",
       "4      store_00009  ...                175\n",
       "\n",
       "[5 rows x 6 columns]"
      ]
     },
     "execution_count": 19,
     "metadata": {
      "tags": []
     },
     "output_type": "execute_result"
    }
   ],
   "source": [
    "store = store.reset_index()\n",
    "store.head()"
   ]
  },
  {
   "cell_type": "code",
   "execution_count": null,
   "metadata": {
    "colab": {},
    "colab_type": "code",
    "id": "EqFzvKOyaS5I"
   },
   "outputs": [],
   "source": [
    "store_label = store.store_identifier\n",
    "store_feature = store[['demand_projection','returned_units_revenue_loss']]"
   ]
  },
  {
   "cell_type": "code",
   "execution_count": null,
   "metadata": {
    "colab": {
     "base_uri": "https://localhost:8080/",
     "height": 137
    },
    "colab_type": "code",
    "id": "7JAoV-ubbR1n",
    "outputId": "a1140c54-28fc-470a-c331-3f92ea850452"
   },
   "outputs": [
    {
     "data": {
      "text/html": [
       "<div>\n",
       "<style scoped>\n",
       "    .dataframe tbody tr th:only-of-type {\n",
       "        vertical-align: middle;\n",
       "    }\n",
       "\n",
       "    .dataframe tbody tr th {\n",
       "        vertical-align: top;\n",
       "    }\n",
       "\n",
       "    .dataframe thead th {\n",
       "        text-align: right;\n",
       "    }\n",
       "</style>\n",
       "<table border=\"1\" class=\"dataframe\">\n",
       "  <thead>\n",
       "    <tr style=\"text-align: right;\">\n",
       "      <th></th>\n",
       "      <th>demand_projection</th>\n",
       "      <th>returned_units_revenue_loss</th>\n",
       "    </tr>\n",
       "  </thead>\n",
       "  <tbody>\n",
       "    <tr>\n",
       "      <th>0</th>\n",
       "      <td>108</td>\n",
       "      <td>19.940000</td>\n",
       "    </tr>\n",
       "    <tr>\n",
       "      <th>1</th>\n",
       "      <td>1130</td>\n",
       "      <td>61.400000</td>\n",
       "    </tr>\n",
       "    <tr>\n",
       "      <th>2</th>\n",
       "      <td>908</td>\n",
       "      <td>11.910000</td>\n",
       "    </tr>\n",
       "  </tbody>\n",
       "</table>\n",
       "</div>"
      ],
      "text/plain": [
       "   demand_projection  returned_units_revenue_loss\n",
       "0                108                    19.940000\n",
       "1               1130                    61.400000\n",
       "2                908                    11.910000"
      ]
     },
     "execution_count": 21,
     "metadata": {
      "tags": []
     },
     "output_type": "execute_result"
    }
   ],
   "source": [
    "store_feature.head(3)"
   ]
  },
  {
   "cell_type": "markdown",
   "metadata": {
    "colab_type": "text",
    "id": "fHm_YPzKVeij"
   },
   "source": [
    "Standardizing the numerical columns"
   ]
  },
  {
   "cell_type": "code",
   "execution_count": null,
   "metadata": {
    "colab": {},
    "colab_type": "code",
    "id": "4spKnMz-Veb7"
   },
   "outputs": [],
   "source": [
    "standardizer = StandardScaler()\n",
    "standardizer.fit(store_feature)\n",
    "std_X = standardizer.transform(store_feature)\n",
    "std_store_feature = pd.DataFrame(std_X, columns=store_feature.columns)"
   ]
  },
  {
   "cell_type": "markdown",
   "metadata": {
    "colab_type": "text",
    "id": "uwXrhYsGbZuU"
   },
   "source": [
    "Using Kmeans to cluster the stores"
   ]
  },
  {
   "cell_type": "code",
   "execution_count": null,
   "metadata": {
    "colab": {},
    "colab_type": "code",
    "id": "hRJ9uU7pVeR0"
   },
   "outputs": [],
   "source": [
    "kmeans_object = KMeans(n_clusters=15, random_state=1729)\n",
    "kmeans_object.fit(std_store_feature)\n",
    "kmeans_clusters = kmeans_object.predict(std_store_feature)\n",
    "\n",
    "kmeans_store = pd.DataFrame({\"label\":store_label,\"kmeans_store\":kmeans_clusters})"
   ]
  },
  {
   "cell_type": "code",
   "execution_count": null,
   "metadata": {
    "colab": {
     "base_uri": "https://localhost:8080/",
     "height": 137
    },
    "colab_type": "code",
    "id": "PzWyE9hEbopT",
    "outputId": "d841804b-cd55-4eac-832c-aba20776a42c"
   },
   "outputs": [
    {
     "data": {
      "text/html": [
       "<div>\n",
       "<style scoped>\n",
       "    .dataframe tbody tr th:only-of-type {\n",
       "        vertical-align: middle;\n",
       "    }\n",
       "\n",
       "    .dataframe tbody tr th {\n",
       "        vertical-align: top;\n",
       "    }\n",
       "\n",
       "    .dataframe thead th {\n",
       "        text-align: right;\n",
       "    }\n",
       "</style>\n",
       "<table border=\"1\" class=\"dataframe\">\n",
       "  <thead>\n",
       "    <tr style=\"text-align: right;\">\n",
       "      <th></th>\n",
       "      <th>label</th>\n",
       "      <th>kmeans_store</th>\n",
       "    </tr>\n",
       "  </thead>\n",
       "  <tbody>\n",
       "    <tr>\n",
       "      <th>0</th>\n",
       "      <td>store_00000</td>\n",
       "      <td>0</td>\n",
       "    </tr>\n",
       "    <tr>\n",
       "      <th>1</th>\n",
       "      <td>store_00001</td>\n",
       "      <td>11</td>\n",
       "    </tr>\n",
       "    <tr>\n",
       "      <th>2</th>\n",
       "      <td>store_00002</td>\n",
       "      <td>11</td>\n",
       "    </tr>\n",
       "  </tbody>\n",
       "</table>\n",
       "</div>"
      ],
      "text/plain": [
       "         label  kmeans_store\n",
       "0  store_00000             0\n",
       "1  store_00001            11\n",
       "2  store_00002            11"
      ]
     },
     "execution_count": 44,
     "metadata": {
      "tags": []
     },
     "output_type": "execute_result"
    }
   ],
   "source": [
    "kmeans_store.head(3)"
   ]
  },
  {
   "cell_type": "markdown",
   "metadata": {
    "colab_type": "text",
    "id": "ObihBNCZb0LV"
   },
   "source": [
    "**Product Identifier**"
   ]
  },
  {
   "cell_type": "code",
   "execution_count": null,
   "metadata": {
    "colab": {},
    "colab_type": "code",
    "id": "g-C_W8dtboh4"
   },
   "outputs": [],
   "source": [
    "product = data.groupby(['product_identifier']).sum()\n",
    "product = product.reset_index()\n",
    "\n",
    "product_label = product.product_identifier\n",
    "product_feature = product[['demand_projection','returned_units_revenue_loss']]\n",
    "\n",
    "#Standardizing\n",
    "standardizer = StandardScaler()\n",
    "standardizer.fit(product_feature)\n",
    "std_X = standardizer.transform(product_feature)\n",
    "std_product_feature = pd.DataFrame(std_X, columns=product_feature.columns)\n",
    "\n",
    "#Kmeans clustering\n",
    "kmeans_object = KMeans(n_clusters=10, random_state=1729)\n",
    "kmeans_object.fit(std_product_feature)\n",
    "kmeans_clusters = kmeans_object.predict(std_product_feature)\n",
    "\n",
    "kmeans_product = pd.DataFrame({\"label\":product_label,\"kmeans_product\":kmeans_clusters})"
   ]
  },
  {
   "cell_type": "code",
   "execution_count": null,
   "metadata": {
    "colab": {
     "base_uri": "https://localhost:8080/",
     "height": 137
    },
    "colab_type": "code",
    "id": "2cLf6M64boau",
    "outputId": "5cd1af8f-a592-4e5e-abc4-1fc740fe592c"
   },
   "outputs": [
    {
     "data": {
      "text/html": [
       "<div>\n",
       "<style scoped>\n",
       "    .dataframe tbody tr th:only-of-type {\n",
       "        vertical-align: middle;\n",
       "    }\n",
       "\n",
       "    .dataframe tbody tr th {\n",
       "        vertical-align: top;\n",
       "    }\n",
       "\n",
       "    .dataframe thead th {\n",
       "        text-align: right;\n",
       "    }\n",
       "</style>\n",
       "<table border=\"1\" class=\"dataframe\">\n",
       "  <thead>\n",
       "    <tr style=\"text-align: right;\">\n",
       "      <th></th>\n",
       "      <th>label</th>\n",
       "      <th>kmeans_product</th>\n",
       "    </tr>\n",
       "  </thead>\n",
       "  <tbody>\n",
       "    <tr>\n",
       "      <th>0</th>\n",
       "      <td>product_00037</td>\n",
       "      <td>7</td>\n",
       "    </tr>\n",
       "    <tr>\n",
       "      <th>1</th>\n",
       "      <td>product_00603</td>\n",
       "      <td>7</td>\n",
       "    </tr>\n",
       "    <tr>\n",
       "      <th>2</th>\n",
       "      <td>product_0087c</td>\n",
       "      <td>5</td>\n",
       "    </tr>\n",
       "  </tbody>\n",
       "</table>\n",
       "</div>"
      ],
      "text/plain": [
       "           label  kmeans_product\n",
       "0  product_00037               7\n",
       "1  product_00603               7\n",
       "2  product_0087c               5"
      ]
     },
     "execution_count": 26,
     "metadata": {
      "tags": []
     },
     "output_type": "execute_result"
    }
   ],
   "source": [
    "kmeans_product.head(3)"
   ]
  },
  {
   "cell_type": "markdown",
   "metadata": {
    "colab_type": "text",
    "id": "VQUBWF0zboS4"
   },
   "source": [
    "**Supplier Identifier**"
   ]
  },
  {
   "cell_type": "code",
   "execution_count": null,
   "metadata": {
    "colab": {},
    "colab_type": "code",
    "id": "boCceKEPboJr"
   },
   "outputs": [],
   "source": [
    "supplier = data.groupby(['supplier_identifier']).sum()\n",
    "supplier = supplier.reset_index()\n",
    "\n",
    "supplier_label = supplier.supplier_identifier\n",
    "supplier_feature = supplier[['demand_projection','returned_units_revenue_loss']]\n",
    "\n",
    "#Standardizing\n",
    "standardizer = StandardScaler()\n",
    "standardizer.fit(supplier_feature)\n",
    "std_X = standardizer.transform(supplier_feature)\n",
    "std_supplier_feature = pd.DataFrame(std_X, columns=supplier_feature.columns)\n",
    "\n",
    "#Clustering\n",
    "kmeans_object = KMeans(n_clusters=10, random_state=1729)\n",
    "kmeans_object.fit(std_supplier_feature)\n",
    "kmeans_clusters = kmeans_object.predict(std_supplier_feature)\n",
    "\n",
    "kmeans_supplier = pd.DataFrame({\"label\":supplier_label,\"kmeans_supplier\":kmeans_clusters})"
   ]
  },
  {
   "cell_type": "code",
   "execution_count": null,
   "metadata": {
    "colab": {
     "base_uri": "https://localhost:8080/",
     "height": 137
    },
    "colab_type": "code",
    "id": "N244NLHdbn_e",
    "outputId": "464e7bc0-5eae-47e2-8ed9-e870ccad249d"
   },
   "outputs": [
    {
     "data": {
      "text/html": [
       "<div>\n",
       "<style scoped>\n",
       "    .dataframe tbody tr th:only-of-type {\n",
       "        vertical-align: middle;\n",
       "    }\n",
       "\n",
       "    .dataframe tbody tr th {\n",
       "        vertical-align: top;\n",
       "    }\n",
       "\n",
       "    .dataframe thead th {\n",
       "        text-align: right;\n",
       "    }\n",
       "</style>\n",
       "<table border=\"1\" class=\"dataframe\">\n",
       "  <thead>\n",
       "    <tr style=\"text-align: right;\">\n",
       "      <th></th>\n",
       "      <th>label</th>\n",
       "      <th>kmeans_supplier</th>\n",
       "    </tr>\n",
       "  </thead>\n",
       "  <tbody>\n",
       "    <tr>\n",
       "      <th>0</th>\n",
       "      <td>supplier_identifier_00150</td>\n",
       "      <td>2</td>\n",
       "    </tr>\n",
       "    <tr>\n",
       "      <th>1</th>\n",
       "      <td>supplier_identifier_00629</td>\n",
       "      <td>2</td>\n",
       "    </tr>\n",
       "    <tr>\n",
       "      <th>2</th>\n",
       "      <td>supplier_identifier_023e3</td>\n",
       "      <td>3</td>\n",
       "    </tr>\n",
       "  </tbody>\n",
       "</table>\n",
       "</div>"
      ],
      "text/plain": [
       "                       label  kmeans_supplier\n",
       "0  supplier_identifier_00150                2\n",
       "1  supplier_identifier_00629                2\n",
       "2  supplier_identifier_023e3                3"
      ]
     },
     "execution_count": 29,
     "metadata": {
      "tags": []
     },
     "output_type": "execute_result"
    }
   ],
   "source": [
    "kmeans_supplier.head(3)"
   ]
  },
  {
   "cell_type": "markdown",
   "metadata": {
    "colab_type": "text",
    "id": "apYipMGbbn5N"
   },
   "source": [
    "**Route Identifier**"
   ]
  },
  {
   "cell_type": "code",
   "execution_count": null,
   "metadata": {
    "colab": {},
    "colab_type": "code",
    "id": "wB3VVjudbnyU"
   },
   "outputs": [],
   "source": [
    "route = data.groupby(['category_of_route']).sum()\n",
    "route = route.reset_index()\n",
    "\n",
    "route_label = route.category_of_route\n",
    "route_feature = route[['demand_projection','returned_units_revenue_loss']]\n",
    "\n",
    "#Standardizing\n",
    "standardizer = StandardScaler()\n",
    "standardizer.fit(route_feature)\n",
    "std_X = standardizer.transform(route_feature)\n",
    "std_route_feature = pd.DataFrame(std_X, columns=route_feature.columns)\n",
    "\n",
    "#Clustering\n",
    "kmeans_object = KMeans(n_clusters=15, random_state=1729)\n",
    "kmeans_object.fit(std_supplier_feature)\n",
    "kmeans_clusters = kmeans_object.predict(std_route_feature)\n",
    "\n",
    "kmeans_route = pd.DataFrame({\"label\":route_label,\"kmeans_route\":kmeans_clusters})"
   ]
  },
  {
   "cell_type": "code",
   "execution_count": null,
   "metadata": {
    "colab": {
     "base_uri": "https://localhost:8080/",
     "height": 137
    },
    "colab_type": "code",
    "id": "l6069COVbnr-",
    "outputId": "3bd90ddd-5861-4422-f19d-826d979b1494"
   },
   "outputs": [
    {
     "data": {
      "text/html": [
       "<div>\n",
       "<style scoped>\n",
       "    .dataframe tbody tr th:only-of-type {\n",
       "        vertical-align: middle;\n",
       "    }\n",
       "\n",
       "    .dataframe tbody tr th {\n",
       "        vertical-align: top;\n",
       "    }\n",
       "\n",
       "    .dataframe thead th {\n",
       "        text-align: right;\n",
       "    }\n",
       "</style>\n",
       "<table border=\"1\" class=\"dataframe\">\n",
       "  <thead>\n",
       "    <tr style=\"text-align: right;\">\n",
       "      <th></th>\n",
       "      <th>label</th>\n",
       "      <th>kmeans_route</th>\n",
       "    </tr>\n",
       "  </thead>\n",
       "  <tbody>\n",
       "    <tr>\n",
       "      <th>0</th>\n",
       "      <td>route_00037</td>\n",
       "      <td>4</td>\n",
       "    </tr>\n",
       "    <tr>\n",
       "      <th>1</th>\n",
       "      <td>route_0020a</td>\n",
       "      <td>12</td>\n",
       "    </tr>\n",
       "    <tr>\n",
       "      <th>2</th>\n",
       "      <td>route_002ab</td>\n",
       "      <td>12</td>\n",
       "    </tr>\n",
       "  </tbody>\n",
       "</table>\n",
       "</div>"
      ],
      "text/plain": [
       "         label  kmeans_route\n",
       "0  route_00037             4\n",
       "1  route_0020a            12\n",
       "2  route_002ab            12"
      ]
     },
     "execution_count": 32,
     "metadata": {
      "tags": []
     },
     "output_type": "execute_result"
    }
   ],
   "source": [
    "kmeans_route.head(3)"
   ]
  },
  {
   "cell_type": "markdown",
   "metadata": {
    "colab_type": "text",
    "id": "T8eeUU-vbnlk"
   },
   "source": [
    "Writing Kmeans clusters to csv"
   ]
  },
  {
   "cell_type": "code",
   "execution_count": null,
   "metadata": {
    "colab": {},
    "colab_type": "code",
    "id": "X00FiHK8bndn"
   },
   "outputs": [],
   "source": [
    "kmeans_store.to_csv('kmeans_store.csv', index = False)\n",
    "kmeans_product.to_csv('kmeans_product.csv', index = False)\n",
    "kmeans_supplier.to_csv('kmeans_supplier.csv', index = False)\n",
    "kmeans_route.to_csv('kmeans_route.csv', index = False)"
   ]
  },
  {
   "cell_type": "code",
   "execution_count": null,
   "metadata": {
    "colab": {},
    "colab_type": "code",
    "id": "1xd2giykh1BO"
   },
   "outputs": [],
   "source": [
    "#from google.colab import files\n",
    "\n",
    "#files.download('kmeans_store.csv')\n",
    "#files.download('kmeans_product.csv')\n",
    "#files.download('kmeans_supplier.csv')\n",
    "#files.download('kmeans_route.csv')"
   ]
  },
  {
   "cell_type": "markdown",
   "metadata": {
    "colab_type": "text",
    "id": "KGqmy65KvJR8"
   },
   "source": [
    "Reading the files from GDrive\n",
    "\n"
   ]
  },
  {
   "cell_type": "code",
   "execution_count": null,
   "metadata": {
    "colab": {},
    "colab_type": "code",
    "id": "dTYpA-Y5ginc"
   },
   "outputs": [],
   "source": [
    "#kmeans_store = pd.read_csv('/content/gdrive/My Drive/kmeans_store.csv')\n",
    "#kmeans_product = pd.read_csv('/content/gdrive/My Drive/kmeans_product.csv')\n",
    "#kmeans_route = pd.read_csv('/content/gdrive/My Drive/kmeans_route.csv')\n",
    "#kmeans_supplier = pd.read_csv('/content/gdrive/My Drive/kmeans_supplier.csv')"
   ]
  },
  {
   "cell_type": "markdown",
   "metadata": {
    "colab_type": "text",
    "id": "VxE17V1TM9G2"
   },
   "source": [
    "### Replacing the store, product, route, supplier identifier columns with their Kmeans bins"
   ]
  },
  {
   "cell_type": "markdown",
   "metadata": {
    "colab_type": "text",
    "id": "Mx5HzmOdujGN"
   },
   "source": [
    "Selecting only the non numerical and demand_projection columns"
   ]
  },
  {
   "cell_type": "code",
   "execution_count": null,
   "metadata": {
    "colab": {},
    "colab_type": "code",
    "id": "g6WIflShhLsR"
   },
   "outputs": [],
   "source": [
    "df = data.iloc[:,[0,1,6,7,8,9,10]]"
   ]
  },
  {
   "cell_type": "code",
   "execution_count": 12,
   "metadata": {
    "colab": {
     "base_uri": "https://localhost:8080/",
     "height": 107
    },
    "colab_type": "code",
    "id": "fJnXLezMhtZx",
    "outputId": "2d6d73a5-b865-463d-89c0-ba536e3b8260"
   },
   "outputs": [
    {
     "data": {
      "text/html": [
       "<div>\n",
       "<style scoped>\n",
       "    .dataframe tbody tr th:only-of-type {\n",
       "        vertical-align: middle;\n",
       "    }\n",
       "\n",
       "    .dataframe tbody tr th {\n",
       "        vertical-align: top;\n",
       "    }\n",
       "\n",
       "    .dataframe thead th {\n",
       "        text-align: right;\n",
       "    }\n",
       "</style>\n",
       "<table border=\"1\" class=\"dataframe\">\n",
       "  <thead>\n",
       "    <tr style=\"text-align: right;\">\n",
       "      <th></th>\n",
       "      <th>experiment_week</th>\n",
       "      <th>channel_type</th>\n",
       "      <th>store_identifier</th>\n",
       "      <th>product_identifier</th>\n",
       "      <th>category_of_route</th>\n",
       "      <th>supplier_identifier</th>\n",
       "      <th>demand_projection</th>\n",
       "    </tr>\n",
       "  </thead>\n",
       "  <tbody>\n",
       "    <tr>\n",
       "      <th>0</th>\n",
       "      <td>Week 1 of 2019</td>\n",
       "      <td>Warehouse Retailers</td>\n",
       "      <td>store_fc6aa</td>\n",
       "      <td>product_cbfad</td>\n",
       "      <td>route_67047</td>\n",
       "      <td>supplier_identifier_055f7</td>\n",
       "      <td>3</td>\n",
       "    </tr>\n",
       "    <tr>\n",
       "      <th>1</th>\n",
       "      <td>Week 1 of 2019</td>\n",
       "      <td>Warehouse Retailers</td>\n",
       "      <td>store_fc6aa</td>\n",
       "      <td>product_2b363</td>\n",
       "      <td>route_67047</td>\n",
       "      <td>supplier_identifier_055f7</td>\n",
       "      <td>4</td>\n",
       "    </tr>\n",
       "  </tbody>\n",
       "</table>\n",
       "</div>"
      ],
      "text/plain": [
       "  experiment_week  ... demand_projection\n",
       "0  Week 1 of 2019  ...                 3\n",
       "1  Week 1 of 2019  ...                 4\n",
       "\n",
       "[2 rows x 7 columns]"
      ]
     },
     "execution_count": 12,
     "metadata": {
      "tags": []
     },
     "output_type": "execute_result"
    }
   ],
   "source": [
    "df.head(2)"
   ]
  },
  {
   "cell_type": "code",
   "execution_count": null,
   "metadata": {
    "colab": {},
    "colab_type": "code",
    "id": "C5t4CX29hwcr"
   },
   "outputs": [],
   "source": [
    "merged_df = pd.merge(df, kmeans_store,  how='left', left_on='store_identifier', right_on = 'label')\n",
    "merged_df = merged_df.iloc[:,[0,1,3,4,5,6,8]]"
   ]
  },
  {
   "cell_type": "code",
   "execution_count": 16,
   "metadata": {
    "colab": {
     "base_uri": "https://localhost:8080/",
     "height": 107
    },
    "colab_type": "code",
    "id": "maU_7YJwh-9I",
    "outputId": "35792047-63da-4c19-bc75-2e2e767e5301"
   },
   "outputs": [
    {
     "data": {
      "text/html": [
       "<div>\n",
       "<style scoped>\n",
       "    .dataframe tbody tr th:only-of-type {\n",
       "        vertical-align: middle;\n",
       "    }\n",
       "\n",
       "    .dataframe tbody tr th {\n",
       "        vertical-align: top;\n",
       "    }\n",
       "\n",
       "    .dataframe thead th {\n",
       "        text-align: right;\n",
       "    }\n",
       "</style>\n",
       "<table border=\"1\" class=\"dataframe\">\n",
       "  <thead>\n",
       "    <tr style=\"text-align: right;\">\n",
       "      <th></th>\n",
       "      <th>experiment_week</th>\n",
       "      <th>channel_type</th>\n",
       "      <th>product_identifier</th>\n",
       "      <th>category_of_route</th>\n",
       "      <th>supplier_identifier</th>\n",
       "      <th>demand_projection</th>\n",
       "      <th>kmeans_store</th>\n",
       "    </tr>\n",
       "  </thead>\n",
       "  <tbody>\n",
       "    <tr>\n",
       "      <th>0</th>\n",
       "      <td>Week 1 of 2019</td>\n",
       "      <td>Warehouse Retailers</td>\n",
       "      <td>product_cbfad</td>\n",
       "      <td>route_67047</td>\n",
       "      <td>supplier_identifier_055f7</td>\n",
       "      <td>3</td>\n",
       "      <td>0</td>\n",
       "    </tr>\n",
       "    <tr>\n",
       "      <th>1</th>\n",
       "      <td>Week 1 of 2019</td>\n",
       "      <td>Warehouse Retailers</td>\n",
       "      <td>product_2b363</td>\n",
       "      <td>route_67047</td>\n",
       "      <td>supplier_identifier_055f7</td>\n",
       "      <td>4</td>\n",
       "      <td>0</td>\n",
       "    </tr>\n",
       "  </tbody>\n",
       "</table>\n",
       "</div>"
      ],
      "text/plain": [
       "  experiment_week         channel_type  ... demand_projection kmeans_store\n",
       "0  Week 1 of 2019  Warehouse Retailers  ...                 3            0\n",
       "1  Week 1 of 2019  Warehouse Retailers  ...                 4            0\n",
       "\n",
       "[2 rows x 7 columns]"
      ]
     },
     "execution_count": 16,
     "metadata": {
      "tags": []
     },
     "output_type": "execute_result"
    }
   ],
   "source": [
    "merged_df.head(2)"
   ]
  },
  {
   "cell_type": "code",
   "execution_count": 17,
   "metadata": {
    "colab": {
     "base_uri": "https://localhost:8080/",
     "height": 107
    },
    "colab_type": "code",
    "id": "Q3Y_tG04gmjp",
    "outputId": "372bdb31-bea1-4a2c-9e65-5125e6c93c5c"
   },
   "outputs": [
    {
     "data": {
      "text/html": [
       "<div>\n",
       "<style scoped>\n",
       "    .dataframe tbody tr th:only-of-type {\n",
       "        vertical-align: middle;\n",
       "    }\n",
       "\n",
       "    .dataframe tbody tr th {\n",
       "        vertical-align: top;\n",
       "    }\n",
       "\n",
       "    .dataframe thead th {\n",
       "        text-align: right;\n",
       "    }\n",
       "</style>\n",
       "<table border=\"1\" class=\"dataframe\">\n",
       "  <thead>\n",
       "    <tr style=\"text-align: right;\">\n",
       "      <th></th>\n",
       "      <th>experiment_week</th>\n",
       "      <th>channel_type</th>\n",
       "      <th>demand_projection</th>\n",
       "      <th>kmeans_store</th>\n",
       "      <th>kmeans_product</th>\n",
       "      <th>kmeans_route</th>\n",
       "      <th>kmeans_supplier</th>\n",
       "    </tr>\n",
       "  </thead>\n",
       "  <tbody>\n",
       "    <tr>\n",
       "      <th>0</th>\n",
       "      <td>Week 1 of 2019</td>\n",
       "      <td>Warehouse Retailers</td>\n",
       "      <td>3</td>\n",
       "      <td>0</td>\n",
       "      <td>5</td>\n",
       "      <td>9</td>\n",
       "      <td>0</td>\n",
       "    </tr>\n",
       "    <tr>\n",
       "      <th>1</th>\n",
       "      <td>Week 1 of 2019</td>\n",
       "      <td>Warehouse Retailers</td>\n",
       "      <td>4</td>\n",
       "      <td>0</td>\n",
       "      <td>6</td>\n",
       "      <td>9</td>\n",
       "      <td>0</td>\n",
       "    </tr>\n",
       "  </tbody>\n",
       "</table>\n",
       "</div>"
      ],
      "text/plain": [
       "  experiment_week         channel_type  ...  kmeans_route  kmeans_supplier\n",
       "0  Week 1 of 2019  Warehouse Retailers  ...             9                0\n",
       "1  Week 1 of 2019  Warehouse Retailers  ...             9                0\n",
       "\n",
       "[2 rows x 7 columns]"
      ]
     },
     "execution_count": 17,
     "metadata": {
      "tags": []
     },
     "output_type": "execute_result"
    }
   ],
   "source": [
    "merged_df = pd.merge(merged_df, kmeans_product,  how='left', left_on='product_identifier', right_on = 'label')\n",
    "merged_df = merged_df.iloc[:,[0,1,3,4,5,6,8]]\n",
    "merged_df = pd.merge(merged_df, kmeans_route,  how='left', left_on='category_of_route', right_on = 'label')\n",
    "merged_df = merged_df.iloc[:,[0,1,3,4,5,6,8]]\n",
    "merged_df = pd.merge(merged_df, kmeans_supplier,  how='left', left_on='supplier_identifier', right_on = 'label')\n",
    "merged_df = merged_df.iloc[:,[0,1,3,4,5,6,8]]\n",
    "merged_df.head(2)"
   ]
  },
  {
   "cell_type": "code",
   "execution_count": 18,
   "metadata": {
    "colab": {
     "base_uri": "https://localhost:8080/",
     "height": 70
    },
    "colab_type": "code",
    "id": "XMh7dmEooBGk",
    "outputId": "aa4bef2f-c718-4b93-e92d-c9440e923fc7"
   },
   "outputs": [
    {
     "data": {
      "text/plain": [
       "Index(['experiment_week', 'channel_type', 'demand_projection', 'kmeans_store',\n",
       "       'kmeans_product', 'kmeans_route', 'kmeans_supplier'],\n",
       "      dtype='object')"
      ]
     },
     "execution_count": 18,
     "metadata": {
      "tags": []
     },
     "output_type": "execute_result"
    }
   ],
   "source": [
    "merged_df.columns"
   ]
  },
  {
   "cell_type": "code",
   "execution_count": 19,
   "metadata": {
    "colab": {
     "base_uri": "https://localhost:8080/",
     "height": 34
    },
    "colab_type": "code",
    "id": "Az0-AF72nIiZ",
    "outputId": "ba4ba311-1efb-4f0b-820b-3dbce89ac20d"
   },
   "outputs": [
    {
     "data": {
      "text/plain": [
       "(53364735, 7)"
      ]
     },
     "execution_count": 19,
     "metadata": {
      "tags": []
     },
     "output_type": "execute_result"
    }
   ],
   "source": [
    "merged_df.shape"
   ]
  },
  {
   "cell_type": "code",
   "execution_count": 25,
   "metadata": {
    "colab": {
     "base_uri": "https://localhost:8080/",
     "height": 34
    },
    "colab_type": "code",
    "id": "0KSwGN0h3PUc",
    "outputId": "f1cde171-a05b-4423-b02f-e502919e8d7c"
   },
   "outputs": [
    {
     "data": {
      "text/plain": [
       "(53364735, 7)"
      ]
     },
     "execution_count": 25,
     "metadata": {
      "tags": []
     },
     "output_type": "execute_result"
    }
   ],
   "source": [
    "merged_df.shape"
   ]
  },
  {
   "cell_type": "code",
   "execution_count": 27,
   "metadata": {
    "colab": {
     "base_uri": "https://localhost:8080/",
     "height": 197
    },
    "colab_type": "code",
    "id": "cG5p6ehV6Pvs",
    "outputId": "4b5f6f81-fe16-4ad3-a915-08ed6266ce32"
   },
   "outputs": [
    {
     "data": {
      "text/html": [
       "<div>\n",
       "<style scoped>\n",
       "    .dataframe tbody tr th:only-of-type {\n",
       "        vertical-align: middle;\n",
       "    }\n",
       "\n",
       "    .dataframe tbody tr th {\n",
       "        vertical-align: top;\n",
       "    }\n",
       "\n",
       "    .dataframe thead th {\n",
       "        text-align: right;\n",
       "    }\n",
       "</style>\n",
       "<table border=\"1\" class=\"dataframe\">\n",
       "  <thead>\n",
       "    <tr style=\"text-align: right;\">\n",
       "      <th></th>\n",
       "      <th>experiment_week</th>\n",
       "      <th>channel_type</th>\n",
       "      <th>demand_projection</th>\n",
       "      <th>kmeans_store</th>\n",
       "      <th>kmeans_product</th>\n",
       "      <th>kmeans_route</th>\n",
       "      <th>kmeans_supplier</th>\n",
       "    </tr>\n",
       "  </thead>\n",
       "  <tbody>\n",
       "    <tr>\n",
       "      <th>0</th>\n",
       "      <td>Week 1 of 2019</td>\n",
       "      <td>Warehouse Retailers</td>\n",
       "      <td>3</td>\n",
       "      <td>0</td>\n",
       "      <td>5</td>\n",
       "      <td>9</td>\n",
       "      <td>0</td>\n",
       "    </tr>\n",
       "    <tr>\n",
       "      <th>1</th>\n",
       "      <td>Week 1 of 2019</td>\n",
       "      <td>Warehouse Retailers</td>\n",
       "      <td>4</td>\n",
       "      <td>0</td>\n",
       "      <td>6</td>\n",
       "      <td>9</td>\n",
       "      <td>0</td>\n",
       "    </tr>\n",
       "    <tr>\n",
       "      <th>2</th>\n",
       "      <td>Week 1 of 2019</td>\n",
       "      <td>Warehouse Retailers</td>\n",
       "      <td>4</td>\n",
       "      <td>0</td>\n",
       "      <td>5</td>\n",
       "      <td>9</td>\n",
       "      <td>0</td>\n",
       "    </tr>\n",
       "    <tr>\n",
       "      <th>3</th>\n",
       "      <td>Week 1 of 2019</td>\n",
       "      <td>Warehouse Retailers</td>\n",
       "      <td>4</td>\n",
       "      <td>0</td>\n",
       "      <td>8</td>\n",
       "      <td>9</td>\n",
       "      <td>0</td>\n",
       "    </tr>\n",
       "    <tr>\n",
       "      <th>4</th>\n",
       "      <td>Week 1 of 2019</td>\n",
       "      <td>Warehouse Retailers</td>\n",
       "      <td>3</td>\n",
       "      <td>0</td>\n",
       "      <td>1</td>\n",
       "      <td>9</td>\n",
       "      <td>0</td>\n",
       "    </tr>\n",
       "  </tbody>\n",
       "</table>\n",
       "</div>"
      ],
      "text/plain": [
       "  experiment_week         channel_type  ...  kmeans_route  kmeans_supplier\n",
       "0  Week 1 of 2019  Warehouse Retailers  ...             9                0\n",
       "1  Week 1 of 2019  Warehouse Retailers  ...             9                0\n",
       "2  Week 1 of 2019  Warehouse Retailers  ...             9                0\n",
       "3  Week 1 of 2019  Warehouse Retailers  ...             9                0\n",
       "4  Week 1 of 2019  Warehouse Retailers  ...             9                0\n",
       "\n",
       "[5 rows x 7 columns]"
      ]
     },
     "execution_count": 27,
     "metadata": {
      "tags": []
     },
     "output_type": "execute_result"
    }
   ],
   "source": [
    "merged_df.head()"
   ]
  },
  {
   "cell_type": "code",
   "execution_count": 28,
   "metadata": {
    "colab": {
     "base_uri": "https://localhost:8080/",
     "height": 207
    },
    "colab_type": "code",
    "id": "toXc-W-P6G1k",
    "outputId": "91fc8fdf-70bd-43c8-ef94-e31a0b6f3131"
   },
   "outputs": [
    {
     "data": {
      "text/html": [
       "<div>\n",
       "<style scoped>\n",
       "    .dataframe tbody tr th:only-of-type {\n",
       "        vertical-align: middle;\n",
       "    }\n",
       "\n",
       "    .dataframe tbody tr th {\n",
       "        vertical-align: top;\n",
       "    }\n",
       "\n",
       "    .dataframe thead th {\n",
       "        text-align: right;\n",
       "    }\n",
       "</style>\n",
       "<table border=\"1\" class=\"dataframe\">\n",
       "  <thead>\n",
       "    <tr style=\"text-align: right;\">\n",
       "      <th></th>\n",
       "      <th>experiment_week</th>\n",
       "      <th>channel_type</th>\n",
       "      <th>demand_projection</th>\n",
       "      <th>kmeans_store</th>\n",
       "      <th>kmeans_product</th>\n",
       "      <th>kmeans_route</th>\n",
       "      <th>kmeans_supplier</th>\n",
       "      <th>num_units_sold_in_week</th>\n",
       "      <th>sales_revenue_in_week</th>\n",
       "      <th>num_units_returned</th>\n",
       "      <th>returned_units_revenue_loss</th>\n",
       "    </tr>\n",
       "  </thead>\n",
       "  <tbody>\n",
       "    <tr>\n",
       "      <th>0</th>\n",
       "      <td>Week 1 of 2019</td>\n",
       "      <td>Warehouse Retailers</td>\n",
       "      <td>3</td>\n",
       "      <td>0</td>\n",
       "      <td>5</td>\n",
       "      <td>9</td>\n",
       "      <td>0</td>\n",
       "      <td>3</td>\n",
       "      <td>377.100000</td>\n",
       "      <td>0</td>\n",
       "      <td>0.000000</td>\n",
       "    </tr>\n",
       "    <tr>\n",
       "      <th>1</th>\n",
       "      <td>Week 1 of 2019</td>\n",
       "      <td>Warehouse Retailers</td>\n",
       "      <td>4</td>\n",
       "      <td>0</td>\n",
       "      <td>6</td>\n",
       "      <td>9</td>\n",
       "      <td>0</td>\n",
       "      <td>4</td>\n",
       "      <td>502.800000</td>\n",
       "      <td>0</td>\n",
       "      <td>0.000000</td>\n",
       "    </tr>\n",
       "    <tr>\n",
       "      <th>2</th>\n",
       "      <td>Week 1 of 2019</td>\n",
       "      <td>Warehouse Retailers</td>\n",
       "      <td>4</td>\n",
       "      <td>0</td>\n",
       "      <td>5</td>\n",
       "      <td>9</td>\n",
       "      <td>0</td>\n",
       "      <td>4</td>\n",
       "      <td>589.800000</td>\n",
       "      <td>0</td>\n",
       "      <td>0.000000</td>\n",
       "    </tr>\n",
       "  </tbody>\n",
       "</table>\n",
       "</div>"
      ],
      "text/plain": [
       "  experiment_week  ... returned_units_revenue_loss\n",
       "0  Week 1 of 2019  ...                    0.000000\n",
       "1  Week 1 of 2019  ...                    0.000000\n",
       "2  Week 1 of 2019  ...                    0.000000\n",
       "\n",
       "[3 rows x 11 columns]"
      ]
     },
     "execution_count": 28,
     "metadata": {
      "tags": []
     },
     "output_type": "execute_result"
    }
   ],
   "source": [
    "merged_df[['num_units_sold_in_week','sales_revenue_in_week', 'num_units_returned','returned_units_revenue_loss']] = data[['num_units_sold_in_week','sales_revenue_in_week', 'num_units_returned','returned_units_revenue_loss']]\n",
    "merged_df.head(3)"
   ]
  },
  {
   "cell_type": "markdown",
   "metadata": {},
   "source": [
    "## <a name=6>Train - Validation Split<a/>\n",
    "<a href=#0>(Go to Contents)<a/>"
   ]
  },
  {
   "cell_type": "markdown",
   "metadata": {
    "colab_type": "text",
    "id": "GQ6BPzwITrml"
   },
   "source": [
    "#### Taking a sample from train data to build model on"
   ]
  },
  {
   "cell_type": "code",
   "execution_count": null,
   "metadata": {
    "colab": {},
    "colab_type": "code",
    "id": "BkOEFGVT0TIm"
   },
   "outputs": [],
   "source": [
    "sample_data = merged_df.sample(frac=0.1, replace=False, random_state=1729)\n",
    "sample_data.to_csv('sampledata_10.csv')"
   ]
  },
  {
   "cell_type": "code",
   "execution_count": null,
   "metadata": {
    "colab": {},
    "colab_type": "code",
    "id": "hhFOH_SIW3GF"
   },
   "outputs": [],
   "source": [
    "traindata=pd.read_csv('/content/gdrive/My Drive/sampledata_10.csv')\n",
    "traindata = traindata.drop('Unnamed: 0',axis = 1)"
   ]
  },
  {
   "cell_type": "code",
   "execution_count": 30,
   "metadata": {
    "colab": {
     "base_uri": "https://localhost:8080/",
     "height": 217
    },
    "colab_type": "code",
    "id": "Nd2jqd_d6uT_",
    "outputId": "77c9c2c5-2af4-4654-dfe2-d184a96f1be1"
   },
   "outputs": [
    {
     "data": {
      "text/html": [
       "<div>\n",
       "<style scoped>\n",
       "    .dataframe tbody tr th:only-of-type {\n",
       "        vertical-align: middle;\n",
       "    }\n",
       "\n",
       "    .dataframe tbody tr th {\n",
       "        vertical-align: top;\n",
       "    }\n",
       "\n",
       "    .dataframe thead th {\n",
       "        text-align: right;\n",
       "    }\n",
       "</style>\n",
       "<table border=\"1\" class=\"dataframe\">\n",
       "  <thead>\n",
       "    <tr style=\"text-align: right;\">\n",
       "      <th></th>\n",
       "      <th>experiment_week</th>\n",
       "      <th>channel_type</th>\n",
       "      <th>demand_projection</th>\n",
       "      <th>kmeans_store</th>\n",
       "      <th>kmeans_product</th>\n",
       "      <th>kmeans_route</th>\n",
       "      <th>kmeans_supplier</th>\n",
       "      <th>num_units_sold_in_week</th>\n",
       "      <th>sales_revenue_in_week</th>\n",
       "      <th>num_units_returned</th>\n",
       "      <th>returned_units_revenue_loss</th>\n",
       "    </tr>\n",
       "  </thead>\n",
       "  <tbody>\n",
       "    <tr>\n",
       "      <th>0</th>\n",
       "      <td>Week 1 of 2019</td>\n",
       "      <td>Grocery Stores</td>\n",
       "      <td>65</td>\n",
       "      <td>11</td>\n",
       "      <td>9</td>\n",
       "      <td>1</td>\n",
       "      <td>1</td>\n",
       "      <td>65</td>\n",
       "      <td>4387.500000</td>\n",
       "      <td>0</td>\n",
       "      <td>0.000000</td>\n",
       "    </tr>\n",
       "    <tr>\n",
       "      <th>1</th>\n",
       "      <td>Week 5 of 2019</td>\n",
       "      <td>Grocery Stores</td>\n",
       "      <td>2</td>\n",
       "      <td>0</td>\n",
       "      <td>5</td>\n",
       "      <td>1</td>\n",
       "      <td>3</td>\n",
       "      <td>2</td>\n",
       "      <td>500.100000</td>\n",
       "      <td>0</td>\n",
       "      <td>0.000000</td>\n",
       "    </tr>\n",
       "    <tr>\n",
       "      <th>2</th>\n",
       "      <td>Week 4 of 2019</td>\n",
       "      <td>Grocery Stores</td>\n",
       "      <td>9</td>\n",
       "      <td>8</td>\n",
       "      <td>9</td>\n",
       "      <td>4</td>\n",
       "      <td>9</td>\n",
       "      <td>9</td>\n",
       "      <td>1262.250000</td>\n",
       "      <td>0</td>\n",
       "      <td>0.000000</td>\n",
       "    </tr>\n",
       "    <tr>\n",
       "      <th>3</th>\n",
       "      <td>Week 1 of 2019</td>\n",
       "      <td>Grocery Stores</td>\n",
       "      <td>5</td>\n",
       "      <td>11</td>\n",
       "      <td>9</td>\n",
       "      <td>1</td>\n",
       "      <td>1</td>\n",
       "      <td>5</td>\n",
       "      <td>583.500000</td>\n",
       "      <td>0</td>\n",
       "      <td>0.000000</td>\n",
       "    </tr>\n",
       "    <tr>\n",
       "      <th>4</th>\n",
       "      <td>Week 5 of 2019</td>\n",
       "      <td>Grocery Stores</td>\n",
       "      <td>5</td>\n",
       "      <td>0</td>\n",
       "      <td>8</td>\n",
       "      <td>12</td>\n",
       "      <td>1</td>\n",
       "      <td>5</td>\n",
       "      <td>573.000000</td>\n",
       "      <td>0</td>\n",
       "      <td>0.000000</td>\n",
       "    </tr>\n",
       "  </tbody>\n",
       "</table>\n",
       "</div>"
      ],
      "text/plain": [
       "  experiment_week  ... returned_units_revenue_loss\n",
       "0  Week 1 of 2019  ...                    0.000000\n",
       "1  Week 5 of 2019  ...                    0.000000\n",
       "2  Week 4 of 2019  ...                    0.000000\n",
       "3  Week 1 of 2019  ...                    0.000000\n",
       "4  Week 5 of 2019  ...                    0.000000\n",
       "\n",
       "[5 rows x 11 columns]"
      ]
     },
     "execution_count": 30,
     "metadata": {
      "tags": []
     },
     "output_type": "execute_result"
    }
   ],
   "source": [
    "traindata.head()"
   ]
  },
  {
   "cell_type": "code",
   "execution_count": null,
   "metadata": {
    "colab": {},
    "colab_type": "code",
    "id": "REhoW15n6fWU"
   },
   "outputs": [],
   "source": [
    "traindata = traindata.drop(['num_units_sold_in_week','sales_revenue_in_week', 'num_units_returned','returned_units_revenue_loss'],axis = 1)"
   ]
  },
  {
   "cell_type": "code",
   "execution_count": 33,
   "metadata": {
    "colab": {
     "base_uri": "https://localhost:8080/",
     "height": 107
    },
    "colab_type": "code",
    "id": "6jclG29KXAAR",
    "outputId": "325d5ead-8b14-4937-e8bb-daabdcc299cf"
   },
   "outputs": [
    {
     "data": {
      "text/html": [
       "<div>\n",
       "<style scoped>\n",
       "    .dataframe tbody tr th:only-of-type {\n",
       "        vertical-align: middle;\n",
       "    }\n",
       "\n",
       "    .dataframe tbody tr th {\n",
       "        vertical-align: top;\n",
       "    }\n",
       "\n",
       "    .dataframe thead th {\n",
       "        text-align: right;\n",
       "    }\n",
       "</style>\n",
       "<table border=\"1\" class=\"dataframe\">\n",
       "  <thead>\n",
       "    <tr style=\"text-align: right;\">\n",
       "      <th></th>\n",
       "      <th>experiment_week</th>\n",
       "      <th>channel_type</th>\n",
       "      <th>demand_projection</th>\n",
       "      <th>kmeans_store</th>\n",
       "      <th>kmeans_product</th>\n",
       "      <th>kmeans_route</th>\n",
       "      <th>kmeans_supplier</th>\n",
       "    </tr>\n",
       "  </thead>\n",
       "  <tbody>\n",
       "    <tr>\n",
       "      <th>0</th>\n",
       "      <td>Week 1 of 2019</td>\n",
       "      <td>Grocery Stores</td>\n",
       "      <td>65</td>\n",
       "      <td>11</td>\n",
       "      <td>9</td>\n",
       "      <td>1</td>\n",
       "      <td>1</td>\n",
       "    </tr>\n",
       "    <tr>\n",
       "      <th>1</th>\n",
       "      <td>Week 5 of 2019</td>\n",
       "      <td>Grocery Stores</td>\n",
       "      <td>2</td>\n",
       "      <td>0</td>\n",
       "      <td>5</td>\n",
       "      <td>1</td>\n",
       "      <td>3</td>\n",
       "    </tr>\n",
       "  </tbody>\n",
       "</table>\n",
       "</div>"
      ],
      "text/plain": [
       "  experiment_week    channel_type  ...  kmeans_route  kmeans_supplier\n",
       "0  Week 1 of 2019  Grocery Stores  ...             1                1\n",
       "1  Week 5 of 2019  Grocery Stores  ...             1                3\n",
       "\n",
       "[2 rows x 7 columns]"
      ]
     },
     "execution_count": 33,
     "metadata": {
      "tags": []
     },
     "output_type": "execute_result"
    }
   ],
   "source": [
    "traindata.head(2)"
   ]
  },
  {
   "cell_type": "code",
   "execution_count": 35,
   "metadata": {
    "colab": {
     "base_uri": "https://localhost:8080/",
     "height": 34
    },
    "colab_type": "code",
    "id": "sq1v_6PAUtt5",
    "outputId": "cdf14a28-cc03-42c1-cbaf-463fffc90e56"
   },
   "outputs": [
    {
     "data": {
      "text/plain": [
       "(5336488, 7)"
      ]
     },
     "execution_count": 35,
     "metadata": {
      "tags": []
     },
     "output_type": "execute_result"
    }
   ],
   "source": [
    "traindata.shape"
   ]
  },
  {
   "cell_type": "markdown",
   "metadata": {
    "colab_type": "text",
    "id": "Ode5hUpi7GcE"
   },
   "source": [
    "**Splitting train and validation data**\n",
    "\n",
    "train =  data of first 4 weeks\n",
    "\n",
    "val = data of 5th week"
   ]
  },
  {
   "cell_type": "code",
   "execution_count": 36,
   "metadata": {
    "colab": {
     "base_uri": "https://localhost:8080/",
     "height": 34
    },
    "colab_type": "code",
    "id": "rTWhju10Vbs3",
    "outputId": "9f0a54c9-1ef9-4986-f03b-65834f03db61"
   },
   "outputs": [
    {
     "data": {
      "text/plain": [
       "(4295788, 7)"
      ]
     },
     "execution_count": 36,
     "metadata": {
      "tags": []
     },
     "output_type": "execute_result"
    }
   ],
   "source": [
    "train = traindata[traindata.experiment_week != 'Week 5 of 2019']\n",
    "train.shape"
   ]
  },
  {
   "cell_type": "code",
   "execution_count": 37,
   "metadata": {
    "colab": {
     "base_uri": "https://localhost:8080/",
     "height": 34
    },
    "colab_type": "code",
    "id": "e08YThMnVFPH",
    "outputId": "17964051-74be-4290-f33d-8c3ae64132ef"
   },
   "outputs": [
    {
     "data": {
      "text/plain": [
       "(1040700, 7)"
      ]
     },
     "execution_count": 37,
     "metadata": {
      "tags": []
     },
     "output_type": "execute_result"
    }
   ],
   "source": [
    "val = traindata[traindata.experiment_week == 'Week 5 of 2019']\n",
    "val.shape"
   ]
  },
  {
   "cell_type": "code",
   "execution_count": 38,
   "metadata": {
    "colab": {
     "base_uri": "https://localhost:8080/",
     "height": 107
    },
    "colab_type": "code",
    "id": "ZMVg4jgFPvj8",
    "outputId": "e7ed5b29-250d-4ce0-e3a7-5a521aa9f37c"
   },
   "outputs": [
    {
     "data": {
      "text/html": [
       "<div>\n",
       "<style scoped>\n",
       "    .dataframe tbody tr th:only-of-type {\n",
       "        vertical-align: middle;\n",
       "    }\n",
       "\n",
       "    .dataframe tbody tr th {\n",
       "        vertical-align: top;\n",
       "    }\n",
       "\n",
       "    .dataframe thead th {\n",
       "        text-align: right;\n",
       "    }\n",
       "</style>\n",
       "<table border=\"1\" class=\"dataframe\">\n",
       "  <thead>\n",
       "    <tr style=\"text-align: right;\">\n",
       "      <th></th>\n",
       "      <th>experiment_week</th>\n",
       "      <th>channel_type</th>\n",
       "      <th>demand_projection</th>\n",
       "      <th>kmeans_store</th>\n",
       "      <th>kmeans_product</th>\n",
       "      <th>kmeans_route</th>\n",
       "      <th>kmeans_supplier</th>\n",
       "    </tr>\n",
       "  </thead>\n",
       "  <tbody>\n",
       "    <tr>\n",
       "      <th>0</th>\n",
       "      <td>Week 1 of 2019</td>\n",
       "      <td>Grocery Stores</td>\n",
       "      <td>65</td>\n",
       "      <td>11</td>\n",
       "      <td>9</td>\n",
       "      <td>1</td>\n",
       "      <td>1</td>\n",
       "    </tr>\n",
       "    <tr>\n",
       "      <th>2</th>\n",
       "      <td>Week 4 of 2019</td>\n",
       "      <td>Grocery Stores</td>\n",
       "      <td>9</td>\n",
       "      <td>8</td>\n",
       "      <td>9</td>\n",
       "      <td>4</td>\n",
       "      <td>9</td>\n",
       "    </tr>\n",
       "  </tbody>\n",
       "</table>\n",
       "</div>"
      ],
      "text/plain": [
       "  experiment_week    channel_type  ...  kmeans_route  kmeans_supplier\n",
       "0  Week 1 of 2019  Grocery Stores  ...             1                1\n",
       "2  Week 4 of 2019  Grocery Stores  ...             4                9\n",
       "\n",
       "[2 rows x 7 columns]"
      ]
     },
     "execution_count": 38,
     "metadata": {
      "tags": []
     },
     "output_type": "execute_result"
    }
   ],
   "source": [
    "train.head(2)"
   ]
  },
  {
   "cell_type": "markdown",
   "metadata": {
    "colab_type": "text",
    "id": "ME5UuXbK7Whs"
   },
   "source": [
    "Dropping the week column"
   ]
  },
  {
   "cell_type": "code",
   "execution_count": null,
   "metadata": {
    "colab": {
     "base_uri": "https://localhost:8080/",
     "height": 105
    },
    "colab_type": "code",
    "id": "TqDS1PLjUE8s",
    "outputId": "e74fda18-6f4d-47c8-ae65-331f756281fe"
   },
   "outputs": [],
   "source": [
    "train.drop('experiment_week',inplace=True, axis = 1)"
   ]
  },
  {
   "cell_type": "code",
   "execution_count": null,
   "metadata": {
    "colab": {
     "base_uri": "https://localhost:8080/",
     "height": 105
    },
    "colab_type": "code",
    "id": "l7iSlhNdV0e-",
    "outputId": "61abb1eb-68be-4b81-a44b-e4a5690bd4c4"
   },
   "outputs": [],
   "source": [
    "val.drop('experiment_week',inplace=True, axis = 1)"
   ]
  },
  {
   "cell_type": "code",
   "execution_count": null,
   "metadata": {
    "colab": {},
    "colab_type": "code",
    "id": "G1A6d--pXoEE"
   },
   "outputs": [],
   "source": [
    "X_train = train.drop(['demand_projection'],axis = 1)\n",
    "y_train = train['demand_projection']"
   ]
  },
  {
   "cell_type": "code",
   "execution_count": null,
   "metadata": {
    "colab": {},
    "colab_type": "code",
    "id": "GyM7hofmWDN3"
   },
   "outputs": [],
   "source": [
    "X_val = val.drop(['demand_projection'],axis = 1)\n",
    "y_val = val['demand_projection']"
   ]
  },
  {
   "cell_type": "markdown",
   "metadata": {
    "colab_type": "text",
    "id": "pI-VLuWJ7eaR"
   },
   "source": [
    "Changing the datatypes"
   ]
  },
  {
   "cell_type": "code",
   "execution_count": null,
   "metadata": {
    "colab": {},
    "colab_type": "code",
    "id": "Ur5sV01sWDLY"
   },
   "outputs": [],
   "source": [
    "for i in X_train.columns:\n",
    "  X_train[i] = X_train[i].astype('category')"
   ]
  },
  {
   "cell_type": "code",
   "execution_count": null,
   "metadata": {
    "colab": {},
    "colab_type": "code",
    "id": "1CWQiVCkWDI7"
   },
   "outputs": [],
   "source": [
    "for i in X_val.columns:\n",
    "  X_val[i] = X_val[i].astype('category')"
   ]
  },
  {
   "cell_type": "code",
   "execution_count": 47,
   "metadata": {
    "colab": {
     "base_uri": "https://localhost:8080/",
     "height": 123
    },
    "colab_type": "code",
    "id": "A4gL7oAMWDCD",
    "outputId": "d53c6dbb-ee1f-4c53-a221-465f3e0b9018"
   },
   "outputs": [
    {
     "data": {
      "text/plain": [
       "channel_type       category\n",
       "kmeans_store       category\n",
       "kmeans_product     category\n",
       "kmeans_route       category\n",
       "kmeans_supplier    category\n",
       "dtype: object"
      ]
     },
     "execution_count": 47,
     "metadata": {
      "tags": []
     },
     "output_type": "execute_result"
    }
   ],
   "source": [
    "X_train.dtypes"
   ]
  },
  {
   "cell_type": "code",
   "execution_count": 48,
   "metadata": {
    "colab": {
     "base_uri": "https://localhost:8080/",
     "height": 123
    },
    "colab_type": "code",
    "id": "l4cBFwedV5P0",
    "outputId": "9931111d-92b1-461d-be3d-34a5b08a365f"
   },
   "outputs": [
    {
     "data": {
      "text/plain": [
       "channel_type       category\n",
       "kmeans_store       category\n",
       "kmeans_product     category\n",
       "kmeans_route       category\n",
       "kmeans_supplier    category\n",
       "dtype: object"
      ]
     },
     "execution_count": 48,
     "metadata": {
      "tags": []
     },
     "output_type": "execute_result"
    }
   ],
   "source": [
    "X_val.dtypes"
   ]
  },
  {
   "cell_type": "markdown",
   "metadata": {
    "colab_type": "text",
    "id": "3kHPfBLB7lyG"
   },
   "source": [
    "**Dummifying the categorical columns**"
   ]
  },
  {
   "cell_type": "code",
   "execution_count": 49,
   "metadata": {
    "colab": {
     "base_uri": "https://localhost:8080/",
     "height": 34
    },
    "colab_type": "code",
    "id": "Ml5grdzWXVCc",
    "outputId": "f9d8050c-817c-4790-b39d-80311ae0b289"
   },
   "outputs": [
    {
     "data": {
      "text/plain": [
       "(4295788, 5)"
      ]
     },
     "execution_count": 49,
     "metadata": {
      "tags": []
     },
     "output_type": "execute_result"
    }
   ],
   "source": [
    "X_train.shape"
   ]
  },
  {
   "cell_type": "code",
   "execution_count": 50,
   "metadata": {
    "colab": {
     "base_uri": "https://localhost:8080/",
     "height": 234
    },
    "colab_type": "code",
    "id": "Cqpy5hM_XiYo",
    "outputId": "dcdae0b5-3eb3-4f06-e7e4-66f0766aaf75"
   },
   "outputs": [
    {
     "data": {
      "text/html": [
       "<div>\n",
       "<style scoped>\n",
       "    .dataframe tbody tr th:only-of-type {\n",
       "        vertical-align: middle;\n",
       "    }\n",
       "\n",
       "    .dataframe tbody tr th {\n",
       "        vertical-align: top;\n",
       "    }\n",
       "\n",
       "    .dataframe thead th {\n",
       "        text-align: right;\n",
       "    }\n",
       "</style>\n",
       "<table border=\"1\" class=\"dataframe\">\n",
       "  <thead>\n",
       "    <tr style=\"text-align: right;\">\n",
       "      <th></th>\n",
       "      <th>channel_type_Department Stores</th>\n",
       "      <th>channel_type_Discount Retailer</th>\n",
       "      <th>channel_type_Grocery Stores</th>\n",
       "      <th>channel_type_Internet Retailers</th>\n",
       "      <th>channel_type_Specialty Retailers</th>\n",
       "      <th>channel_type_Supermarkets</th>\n",
       "      <th>channel_type_Warehouse Retailers</th>\n",
       "      <th>channel_type_Wholesale Retailers</th>\n",
       "      <th>kmeans_store_1</th>\n",
       "      <th>kmeans_store_2</th>\n",
       "      <th>kmeans_store_3</th>\n",
       "      <th>kmeans_store_4</th>\n",
       "      <th>kmeans_store_5</th>\n",
       "      <th>kmeans_store_6</th>\n",
       "      <th>kmeans_store_7</th>\n",
       "      <th>kmeans_store_8</th>\n",
       "      <th>kmeans_store_9</th>\n",
       "      <th>kmeans_store_10</th>\n",
       "      <th>kmeans_store_11</th>\n",
       "      <th>kmeans_store_12</th>\n",
       "      <th>kmeans_store_13</th>\n",
       "      <th>kmeans_store_14</th>\n",
       "      <th>kmeans_product_1</th>\n",
       "      <th>kmeans_product_2</th>\n",
       "      <th>kmeans_product_3</th>\n",
       "      <th>kmeans_product_4</th>\n",
       "      <th>kmeans_product_5</th>\n",
       "      <th>kmeans_product_6</th>\n",
       "      <th>kmeans_product_7</th>\n",
       "      <th>kmeans_product_8</th>\n",
       "      <th>kmeans_product_9</th>\n",
       "      <th>kmeans_route_2</th>\n",
       "      <th>kmeans_route_3</th>\n",
       "      <th>kmeans_route_4</th>\n",
       "      <th>kmeans_route_5</th>\n",
       "      <th>kmeans_route_6</th>\n",
       "      <th>kmeans_route_7</th>\n",
       "      <th>kmeans_route_8</th>\n",
       "      <th>kmeans_route_9</th>\n",
       "      <th>kmeans_route_10</th>\n",
       "      <th>kmeans_route_11</th>\n",
       "      <th>kmeans_route_12</th>\n",
       "      <th>kmeans_route_13</th>\n",
       "      <th>kmeans_route_14</th>\n",
       "      <th>kmeans_supplier_1</th>\n",
       "      <th>kmeans_supplier_2</th>\n",
       "      <th>kmeans_supplier_3</th>\n",
       "      <th>kmeans_supplier_4</th>\n",
       "      <th>kmeans_supplier_5</th>\n",
       "      <th>kmeans_supplier_6</th>\n",
       "      <th>kmeans_supplier_7</th>\n",
       "      <th>kmeans_supplier_8</th>\n",
       "      <th>kmeans_supplier_9</th>\n",
       "    </tr>\n",
       "  </thead>\n",
       "  <tbody>\n",
       "    <tr>\n",
       "      <th>0</th>\n",
       "      <td>0</td>\n",
       "      <td>0</td>\n",
       "      <td>1</td>\n",
       "      <td>0</td>\n",
       "      <td>0</td>\n",
       "      <td>0</td>\n",
       "      <td>0</td>\n",
       "      <td>0</td>\n",
       "      <td>0</td>\n",
       "      <td>0</td>\n",
       "      <td>0</td>\n",
       "      <td>0</td>\n",
       "      <td>0</td>\n",
       "      <td>0</td>\n",
       "      <td>0</td>\n",
       "      <td>0</td>\n",
       "      <td>0</td>\n",
       "      <td>0</td>\n",
       "      <td>1</td>\n",
       "      <td>0</td>\n",
       "      <td>0</td>\n",
       "      <td>0</td>\n",
       "      <td>0</td>\n",
       "      <td>0</td>\n",
       "      <td>0</td>\n",
       "      <td>0</td>\n",
       "      <td>0</td>\n",
       "      <td>0</td>\n",
       "      <td>0</td>\n",
       "      <td>0</td>\n",
       "      <td>1</td>\n",
       "      <td>0</td>\n",
       "      <td>0</td>\n",
       "      <td>0</td>\n",
       "      <td>0</td>\n",
       "      <td>0</td>\n",
       "      <td>0</td>\n",
       "      <td>0</td>\n",
       "      <td>0</td>\n",
       "      <td>0</td>\n",
       "      <td>0</td>\n",
       "      <td>0</td>\n",
       "      <td>0</td>\n",
       "      <td>0</td>\n",
       "      <td>1</td>\n",
       "      <td>0</td>\n",
       "      <td>0</td>\n",
       "      <td>0</td>\n",
       "      <td>0</td>\n",
       "      <td>0</td>\n",
       "      <td>0</td>\n",
       "      <td>0</td>\n",
       "      <td>0</td>\n",
       "    </tr>\n",
       "    <tr>\n",
       "      <th>2</th>\n",
       "      <td>0</td>\n",
       "      <td>0</td>\n",
       "      <td>1</td>\n",
       "      <td>0</td>\n",
       "      <td>0</td>\n",
       "      <td>0</td>\n",
       "      <td>0</td>\n",
       "      <td>0</td>\n",
       "      <td>0</td>\n",
       "      <td>0</td>\n",
       "      <td>0</td>\n",
       "      <td>0</td>\n",
       "      <td>0</td>\n",
       "      <td>0</td>\n",
       "      <td>0</td>\n",
       "      <td>1</td>\n",
       "      <td>0</td>\n",
       "      <td>0</td>\n",
       "      <td>0</td>\n",
       "      <td>0</td>\n",
       "      <td>0</td>\n",
       "      <td>0</td>\n",
       "      <td>0</td>\n",
       "      <td>0</td>\n",
       "      <td>0</td>\n",
       "      <td>0</td>\n",
       "      <td>0</td>\n",
       "      <td>0</td>\n",
       "      <td>0</td>\n",
       "      <td>0</td>\n",
       "      <td>1</td>\n",
       "      <td>0</td>\n",
       "      <td>0</td>\n",
       "      <td>1</td>\n",
       "      <td>0</td>\n",
       "      <td>0</td>\n",
       "      <td>0</td>\n",
       "      <td>0</td>\n",
       "      <td>0</td>\n",
       "      <td>0</td>\n",
       "      <td>0</td>\n",
       "      <td>0</td>\n",
       "      <td>0</td>\n",
       "      <td>0</td>\n",
       "      <td>0</td>\n",
       "      <td>0</td>\n",
       "      <td>0</td>\n",
       "      <td>0</td>\n",
       "      <td>0</td>\n",
       "      <td>0</td>\n",
       "      <td>0</td>\n",
       "      <td>0</td>\n",
       "      <td>1</td>\n",
       "    </tr>\n",
       "    <tr>\n",
       "      <th>3</th>\n",
       "      <td>0</td>\n",
       "      <td>0</td>\n",
       "      <td>1</td>\n",
       "      <td>0</td>\n",
       "      <td>0</td>\n",
       "      <td>0</td>\n",
       "      <td>0</td>\n",
       "      <td>0</td>\n",
       "      <td>0</td>\n",
       "      <td>0</td>\n",
       "      <td>0</td>\n",
       "      <td>0</td>\n",
       "      <td>0</td>\n",
       "      <td>0</td>\n",
       "      <td>0</td>\n",
       "      <td>0</td>\n",
       "      <td>0</td>\n",
       "      <td>0</td>\n",
       "      <td>1</td>\n",
       "      <td>0</td>\n",
       "      <td>0</td>\n",
       "      <td>0</td>\n",
       "      <td>0</td>\n",
       "      <td>0</td>\n",
       "      <td>0</td>\n",
       "      <td>0</td>\n",
       "      <td>0</td>\n",
       "      <td>0</td>\n",
       "      <td>0</td>\n",
       "      <td>0</td>\n",
       "      <td>1</td>\n",
       "      <td>0</td>\n",
       "      <td>0</td>\n",
       "      <td>0</td>\n",
       "      <td>0</td>\n",
       "      <td>0</td>\n",
       "      <td>0</td>\n",
       "      <td>0</td>\n",
       "      <td>0</td>\n",
       "      <td>0</td>\n",
       "      <td>0</td>\n",
       "      <td>0</td>\n",
       "      <td>0</td>\n",
       "      <td>0</td>\n",
       "      <td>1</td>\n",
       "      <td>0</td>\n",
       "      <td>0</td>\n",
       "      <td>0</td>\n",
       "      <td>0</td>\n",
       "      <td>0</td>\n",
       "      <td>0</td>\n",
       "      <td>0</td>\n",
       "      <td>0</td>\n",
       "    </tr>\n",
       "    <tr>\n",
       "      <th>5</th>\n",
       "      <td>0</td>\n",
       "      <td>0</td>\n",
       "      <td>1</td>\n",
       "      <td>0</td>\n",
       "      <td>0</td>\n",
       "      <td>0</td>\n",
       "      <td>0</td>\n",
       "      <td>0</td>\n",
       "      <td>0</td>\n",
       "      <td>0</td>\n",
       "      <td>0</td>\n",
       "      <td>0</td>\n",
       "      <td>0</td>\n",
       "      <td>0</td>\n",
       "      <td>0</td>\n",
       "      <td>0</td>\n",
       "      <td>0</td>\n",
       "      <td>0</td>\n",
       "      <td>1</td>\n",
       "      <td>0</td>\n",
       "      <td>0</td>\n",
       "      <td>0</td>\n",
       "      <td>0</td>\n",
       "      <td>0</td>\n",
       "      <td>0</td>\n",
       "      <td>0</td>\n",
       "      <td>0</td>\n",
       "      <td>1</td>\n",
       "      <td>0</td>\n",
       "      <td>0</td>\n",
       "      <td>0</td>\n",
       "      <td>1</td>\n",
       "      <td>0</td>\n",
       "      <td>0</td>\n",
       "      <td>0</td>\n",
       "      <td>0</td>\n",
       "      <td>0</td>\n",
       "      <td>0</td>\n",
       "      <td>0</td>\n",
       "      <td>0</td>\n",
       "      <td>0</td>\n",
       "      <td>0</td>\n",
       "      <td>0</td>\n",
       "      <td>0</td>\n",
       "      <td>0</td>\n",
       "      <td>0</td>\n",
       "      <td>0</td>\n",
       "      <td>0</td>\n",
       "      <td>1</td>\n",
       "      <td>0</td>\n",
       "      <td>0</td>\n",
       "      <td>0</td>\n",
       "      <td>0</td>\n",
       "    </tr>\n",
       "    <tr>\n",
       "      <th>7</th>\n",
       "      <td>0</td>\n",
       "      <td>0</td>\n",
       "      <td>1</td>\n",
       "      <td>0</td>\n",
       "      <td>0</td>\n",
       "      <td>0</td>\n",
       "      <td>0</td>\n",
       "      <td>0</td>\n",
       "      <td>0</td>\n",
       "      <td>0</td>\n",
       "      <td>0</td>\n",
       "      <td>0</td>\n",
       "      <td>0</td>\n",
       "      <td>0</td>\n",
       "      <td>0</td>\n",
       "      <td>0</td>\n",
       "      <td>0</td>\n",
       "      <td>0</td>\n",
       "      <td>1</td>\n",
       "      <td>0</td>\n",
       "      <td>0</td>\n",
       "      <td>0</td>\n",
       "      <td>0</td>\n",
       "      <td>1</td>\n",
       "      <td>0</td>\n",
       "      <td>0</td>\n",
       "      <td>0</td>\n",
       "      <td>0</td>\n",
       "      <td>0</td>\n",
       "      <td>0</td>\n",
       "      <td>0</td>\n",
       "      <td>0</td>\n",
       "      <td>0</td>\n",
       "      <td>0</td>\n",
       "      <td>0</td>\n",
       "      <td>0</td>\n",
       "      <td>0</td>\n",
       "      <td>0</td>\n",
       "      <td>0</td>\n",
       "      <td>1</td>\n",
       "      <td>0</td>\n",
       "      <td>0</td>\n",
       "      <td>0</td>\n",
       "      <td>0</td>\n",
       "      <td>1</td>\n",
       "      <td>0</td>\n",
       "      <td>0</td>\n",
       "      <td>0</td>\n",
       "      <td>0</td>\n",
       "      <td>0</td>\n",
       "      <td>0</td>\n",
       "      <td>0</td>\n",
       "      <td>0</td>\n",
       "    </tr>\n",
       "  </tbody>\n",
       "</table>\n",
       "</div>"
      ],
      "text/plain": [
       "   channel_type_Department Stores  ...  kmeans_supplier_9\n",
       "0                               0  ...                  0\n",
       "2                               0  ...                  1\n",
       "3                               0  ...                  0\n",
       "5                               0  ...                  0\n",
       "7                               0  ...                  0\n",
       "\n",
       "[5 rows x 53 columns]"
      ]
     },
     "execution_count": 50,
     "metadata": {
      "tags": []
     },
     "output_type": "execute_result"
    }
   ],
   "source": [
    "X_train = pd.get_dummies(data=X_train,drop_first=True)\n",
    "X_train.head()"
   ]
  },
  {
   "cell_type": "code",
   "execution_count": 51,
   "metadata": {
    "colab": {
     "base_uri": "https://localhost:8080/",
     "height": 34
    },
    "colab_type": "code",
    "id": "eAG7w-qCXiVU",
    "outputId": "d2396252-1fc6-4829-b00d-3001aae17aa6"
   },
   "outputs": [
    {
     "data": {
      "text/plain": [
       "(4295788, 53)"
      ]
     },
     "execution_count": 51,
     "metadata": {
      "tags": []
     },
     "output_type": "execute_result"
    }
   ],
   "source": [
    "X_train.shape"
   ]
  },
  {
   "cell_type": "code",
   "execution_count": 52,
   "metadata": {
    "colab": {
     "base_uri": "https://localhost:8080/",
     "height": 34
    },
    "colab_type": "code",
    "id": "UZ9ptzXYXlTO",
    "outputId": "852597fc-909f-4f83-91ca-d2de0ebbdd25"
   },
   "outputs": [
    {
     "data": {
      "text/plain": [
       "(1040700, 5)"
      ]
     },
     "execution_count": 52,
     "metadata": {
      "tags": []
     },
     "output_type": "execute_result"
    }
   ],
   "source": [
    "X_val.shape"
   ]
  },
  {
   "cell_type": "code",
   "execution_count": 53,
   "metadata": {
    "colab": {
     "base_uri": "https://localhost:8080/",
     "height": 234
    },
    "colab_type": "code",
    "id": "fVuA87g6Xa2S",
    "outputId": "5790d1d8-d5a6-47d4-9530-9a06f1c35296"
   },
   "outputs": [
    {
     "data": {
      "text/html": [
       "<div>\n",
       "<style scoped>\n",
       "    .dataframe tbody tr th:only-of-type {\n",
       "        vertical-align: middle;\n",
       "    }\n",
       "\n",
       "    .dataframe tbody tr th {\n",
       "        vertical-align: top;\n",
       "    }\n",
       "\n",
       "    .dataframe thead th {\n",
       "        text-align: right;\n",
       "    }\n",
       "</style>\n",
       "<table border=\"1\" class=\"dataframe\">\n",
       "  <thead>\n",
       "    <tr style=\"text-align: right;\">\n",
       "      <th></th>\n",
       "      <th>channel_type_Department Stores</th>\n",
       "      <th>channel_type_Discount Retailer</th>\n",
       "      <th>channel_type_Grocery Stores</th>\n",
       "      <th>channel_type_Internet Retailers</th>\n",
       "      <th>channel_type_Specialty Retailers</th>\n",
       "      <th>channel_type_Supermarkets</th>\n",
       "      <th>channel_type_Warehouse Retailers</th>\n",
       "      <th>channel_type_Wholesale Retailers</th>\n",
       "      <th>kmeans_store_1</th>\n",
       "      <th>kmeans_store_2</th>\n",
       "      <th>kmeans_store_3</th>\n",
       "      <th>kmeans_store_4</th>\n",
       "      <th>kmeans_store_5</th>\n",
       "      <th>kmeans_store_6</th>\n",
       "      <th>kmeans_store_7</th>\n",
       "      <th>kmeans_store_8</th>\n",
       "      <th>kmeans_store_9</th>\n",
       "      <th>kmeans_store_10</th>\n",
       "      <th>kmeans_store_11</th>\n",
       "      <th>kmeans_store_12</th>\n",
       "      <th>kmeans_store_13</th>\n",
       "      <th>kmeans_store_14</th>\n",
       "      <th>kmeans_product_1</th>\n",
       "      <th>kmeans_product_2</th>\n",
       "      <th>kmeans_product_3</th>\n",
       "      <th>kmeans_product_4</th>\n",
       "      <th>kmeans_product_5</th>\n",
       "      <th>kmeans_product_6</th>\n",
       "      <th>kmeans_product_7</th>\n",
       "      <th>kmeans_product_8</th>\n",
       "      <th>kmeans_product_9</th>\n",
       "      <th>kmeans_route_2</th>\n",
       "      <th>kmeans_route_3</th>\n",
       "      <th>kmeans_route_4</th>\n",
       "      <th>kmeans_route_5</th>\n",
       "      <th>kmeans_route_6</th>\n",
       "      <th>kmeans_route_7</th>\n",
       "      <th>kmeans_route_8</th>\n",
       "      <th>kmeans_route_9</th>\n",
       "      <th>kmeans_route_10</th>\n",
       "      <th>kmeans_route_11</th>\n",
       "      <th>kmeans_route_12</th>\n",
       "      <th>kmeans_route_13</th>\n",
       "      <th>kmeans_route_14</th>\n",
       "      <th>kmeans_supplier_1</th>\n",
       "      <th>kmeans_supplier_2</th>\n",
       "      <th>kmeans_supplier_3</th>\n",
       "      <th>kmeans_supplier_4</th>\n",
       "      <th>kmeans_supplier_5</th>\n",
       "      <th>kmeans_supplier_6</th>\n",
       "      <th>kmeans_supplier_7</th>\n",
       "      <th>kmeans_supplier_8</th>\n",
       "      <th>kmeans_supplier_9</th>\n",
       "    </tr>\n",
       "  </thead>\n",
       "  <tbody>\n",
       "    <tr>\n",
       "      <th>1</th>\n",
       "      <td>0</td>\n",
       "      <td>0</td>\n",
       "      <td>1</td>\n",
       "      <td>0</td>\n",
       "      <td>0</td>\n",
       "      <td>0</td>\n",
       "      <td>0</td>\n",
       "      <td>0</td>\n",
       "      <td>0</td>\n",
       "      <td>0</td>\n",
       "      <td>0</td>\n",
       "      <td>0</td>\n",
       "      <td>0</td>\n",
       "      <td>0</td>\n",
       "      <td>0</td>\n",
       "      <td>0</td>\n",
       "      <td>0</td>\n",
       "      <td>0</td>\n",
       "      <td>0</td>\n",
       "      <td>0</td>\n",
       "      <td>0</td>\n",
       "      <td>0</td>\n",
       "      <td>0</td>\n",
       "      <td>0</td>\n",
       "      <td>0</td>\n",
       "      <td>0</td>\n",
       "      <td>1</td>\n",
       "      <td>0</td>\n",
       "      <td>0</td>\n",
       "      <td>0</td>\n",
       "      <td>0</td>\n",
       "      <td>0</td>\n",
       "      <td>0</td>\n",
       "      <td>0</td>\n",
       "      <td>0</td>\n",
       "      <td>0</td>\n",
       "      <td>0</td>\n",
       "      <td>0</td>\n",
       "      <td>0</td>\n",
       "      <td>0</td>\n",
       "      <td>0</td>\n",
       "      <td>0</td>\n",
       "      <td>0</td>\n",
       "      <td>0</td>\n",
       "      <td>0</td>\n",
       "      <td>0</td>\n",
       "      <td>1</td>\n",
       "      <td>0</td>\n",
       "      <td>0</td>\n",
       "      <td>0</td>\n",
       "      <td>0</td>\n",
       "      <td>0</td>\n",
       "      <td>0</td>\n",
       "    </tr>\n",
       "    <tr>\n",
       "      <th>4</th>\n",
       "      <td>0</td>\n",
       "      <td>0</td>\n",
       "      <td>1</td>\n",
       "      <td>0</td>\n",
       "      <td>0</td>\n",
       "      <td>0</td>\n",
       "      <td>0</td>\n",
       "      <td>0</td>\n",
       "      <td>0</td>\n",
       "      <td>0</td>\n",
       "      <td>0</td>\n",
       "      <td>0</td>\n",
       "      <td>0</td>\n",
       "      <td>0</td>\n",
       "      <td>0</td>\n",
       "      <td>0</td>\n",
       "      <td>0</td>\n",
       "      <td>0</td>\n",
       "      <td>0</td>\n",
       "      <td>0</td>\n",
       "      <td>0</td>\n",
       "      <td>0</td>\n",
       "      <td>0</td>\n",
       "      <td>0</td>\n",
       "      <td>0</td>\n",
       "      <td>0</td>\n",
       "      <td>0</td>\n",
       "      <td>0</td>\n",
       "      <td>0</td>\n",
       "      <td>1</td>\n",
       "      <td>0</td>\n",
       "      <td>0</td>\n",
       "      <td>0</td>\n",
       "      <td>0</td>\n",
       "      <td>0</td>\n",
       "      <td>0</td>\n",
       "      <td>0</td>\n",
       "      <td>0</td>\n",
       "      <td>0</td>\n",
       "      <td>0</td>\n",
       "      <td>0</td>\n",
       "      <td>1</td>\n",
       "      <td>0</td>\n",
       "      <td>0</td>\n",
       "      <td>1</td>\n",
       "      <td>0</td>\n",
       "      <td>0</td>\n",
       "      <td>0</td>\n",
       "      <td>0</td>\n",
       "      <td>0</td>\n",
       "      <td>0</td>\n",
       "      <td>0</td>\n",
       "      <td>0</td>\n",
       "    </tr>\n",
       "    <tr>\n",
       "      <th>6</th>\n",
       "      <td>0</td>\n",
       "      <td>0</td>\n",
       "      <td>1</td>\n",
       "      <td>0</td>\n",
       "      <td>0</td>\n",
       "      <td>0</td>\n",
       "      <td>0</td>\n",
       "      <td>0</td>\n",
       "      <td>0</td>\n",
       "      <td>0</td>\n",
       "      <td>0</td>\n",
       "      <td>0</td>\n",
       "      <td>0</td>\n",
       "      <td>0</td>\n",
       "      <td>0</td>\n",
       "      <td>0</td>\n",
       "      <td>0</td>\n",
       "      <td>0</td>\n",
       "      <td>0</td>\n",
       "      <td>0</td>\n",
       "      <td>0</td>\n",
       "      <td>0</td>\n",
       "      <td>0</td>\n",
       "      <td>0</td>\n",
       "      <td>0</td>\n",
       "      <td>0</td>\n",
       "      <td>0</td>\n",
       "      <td>0</td>\n",
       "      <td>0</td>\n",
       "      <td>0</td>\n",
       "      <td>1</td>\n",
       "      <td>0</td>\n",
       "      <td>0</td>\n",
       "      <td>0</td>\n",
       "      <td>0</td>\n",
       "      <td>0</td>\n",
       "      <td>0</td>\n",
       "      <td>0</td>\n",
       "      <td>0</td>\n",
       "      <td>0</td>\n",
       "      <td>0</td>\n",
       "      <td>0</td>\n",
       "      <td>0</td>\n",
       "      <td>0</td>\n",
       "      <td>0</td>\n",
       "      <td>0</td>\n",
       "      <td>0</td>\n",
       "      <td>0</td>\n",
       "      <td>1</td>\n",
       "      <td>0</td>\n",
       "      <td>0</td>\n",
       "      <td>0</td>\n",
       "      <td>0</td>\n",
       "    </tr>\n",
       "    <tr>\n",
       "      <th>9</th>\n",
       "      <td>0</td>\n",
       "      <td>0</td>\n",
       "      <td>0</td>\n",
       "      <td>0</td>\n",
       "      <td>0</td>\n",
       "      <td>1</td>\n",
       "      <td>0</td>\n",
       "      <td>0</td>\n",
       "      <td>0</td>\n",
       "      <td>0</td>\n",
       "      <td>0</td>\n",
       "      <td>0</td>\n",
       "      <td>0</td>\n",
       "      <td>0</td>\n",
       "      <td>0</td>\n",
       "      <td>1</td>\n",
       "      <td>0</td>\n",
       "      <td>0</td>\n",
       "      <td>0</td>\n",
       "      <td>0</td>\n",
       "      <td>0</td>\n",
       "      <td>0</td>\n",
       "      <td>0</td>\n",
       "      <td>0</td>\n",
       "      <td>0</td>\n",
       "      <td>0</td>\n",
       "      <td>0</td>\n",
       "      <td>0</td>\n",
       "      <td>1</td>\n",
       "      <td>0</td>\n",
       "      <td>0</td>\n",
       "      <td>0</td>\n",
       "      <td>0</td>\n",
       "      <td>0</td>\n",
       "      <td>0</td>\n",
       "      <td>0</td>\n",
       "      <td>0</td>\n",
       "      <td>0</td>\n",
       "      <td>0</td>\n",
       "      <td>0</td>\n",
       "      <td>0</td>\n",
       "      <td>0</td>\n",
       "      <td>1</td>\n",
       "      <td>0</td>\n",
       "      <td>0</td>\n",
       "      <td>0</td>\n",
       "      <td>0</td>\n",
       "      <td>0</td>\n",
       "      <td>0</td>\n",
       "      <td>0</td>\n",
       "      <td>0</td>\n",
       "      <td>1</td>\n",
       "      <td>0</td>\n",
       "    </tr>\n",
       "    <tr>\n",
       "      <th>11</th>\n",
       "      <td>0</td>\n",
       "      <td>0</td>\n",
       "      <td>1</td>\n",
       "      <td>0</td>\n",
       "      <td>0</td>\n",
       "      <td>0</td>\n",
       "      <td>0</td>\n",
       "      <td>0</td>\n",
       "      <td>0</td>\n",
       "      <td>0</td>\n",
       "      <td>0</td>\n",
       "      <td>0</td>\n",
       "      <td>0</td>\n",
       "      <td>0</td>\n",
       "      <td>0</td>\n",
       "      <td>0</td>\n",
       "      <td>0</td>\n",
       "      <td>0</td>\n",
       "      <td>1</td>\n",
       "      <td>0</td>\n",
       "      <td>0</td>\n",
       "      <td>0</td>\n",
       "      <td>0</td>\n",
       "      <td>0</td>\n",
       "      <td>0</td>\n",
       "      <td>0</td>\n",
       "      <td>0</td>\n",
       "      <td>0</td>\n",
       "      <td>0</td>\n",
       "      <td>0</td>\n",
       "      <td>0</td>\n",
       "      <td>0</td>\n",
       "      <td>0</td>\n",
       "      <td>0</td>\n",
       "      <td>0</td>\n",
       "      <td>0</td>\n",
       "      <td>0</td>\n",
       "      <td>0</td>\n",
       "      <td>0</td>\n",
       "      <td>0</td>\n",
       "      <td>0</td>\n",
       "      <td>0</td>\n",
       "      <td>0</td>\n",
       "      <td>1</td>\n",
       "      <td>0</td>\n",
       "      <td>0</td>\n",
       "      <td>0</td>\n",
       "      <td>0</td>\n",
       "      <td>1</td>\n",
       "      <td>0</td>\n",
       "      <td>0</td>\n",
       "      <td>0</td>\n",
       "      <td>0</td>\n",
       "    </tr>\n",
       "  </tbody>\n",
       "</table>\n",
       "</div>"
      ],
      "text/plain": [
       "    channel_type_Department Stores  ...  kmeans_supplier_9\n",
       "1                                0  ...                  0\n",
       "4                                0  ...                  0\n",
       "6                                0  ...                  0\n",
       "9                                0  ...                  0\n",
       "11                               0  ...                  0\n",
       "\n",
       "[5 rows x 53 columns]"
      ]
     },
     "execution_count": 53,
     "metadata": {
      "tags": []
     },
     "output_type": "execute_result"
    }
   ],
   "source": [
    "X_val = pd.get_dummies(data=X_val,drop_first=True)\n",
    "X_val.head()"
   ]
  },
  {
   "cell_type": "code",
   "execution_count": 54,
   "metadata": {
    "colab": {
     "base_uri": "https://localhost:8080/",
     "height": 34
    },
    "colab_type": "code",
    "id": "Qf4lLug5XoED",
    "outputId": "8d0faf0e-8cb6-484c-b9ea-5b01adc9525f"
   },
   "outputs": [
    {
     "data": {
      "text/plain": [
       "(1040700, 53)"
      ]
     },
     "execution_count": 54,
     "metadata": {
      "tags": []
     },
     "output_type": "execute_result"
    }
   ],
   "source": [
    "X_val.shape"
   ]
  },
  {
   "cell_type": "markdown",
   "metadata": {
    "colab_type": "text",
    "id": "OUABoI5n72_h"
   },
   "source": [
    "Checking if the columns in train and validation sets are consistent"
   ]
  },
  {
   "cell_type": "code",
   "execution_count": 55,
   "metadata": {
    "colab": {
     "base_uri": "https://localhost:8080/",
     "height": 354
    },
    "colab_type": "code",
    "id": "hpBr4fZHXaqG",
    "outputId": "c25f5982-5740-4d22-ac98-87591d7f3297"
   },
   "outputs": [
    {
     "data": {
      "text/plain": [
       "Index(['channel_type_Department Stores', 'channel_type_Discount Retailer',\n",
       "       'channel_type_Grocery Stores', 'channel_type_Internet Retailers',\n",
       "       'channel_type_Specialty Retailers', 'channel_type_Supermarkets',\n",
       "       'channel_type_Warehouse Retailers', 'channel_type_Wholesale Retailers',\n",
       "       'kmeans_store_1', 'kmeans_store_2', 'kmeans_store_3', 'kmeans_store_4',\n",
       "       'kmeans_store_5', 'kmeans_store_6', 'kmeans_store_7', 'kmeans_store_8',\n",
       "       'kmeans_store_9', 'kmeans_store_10', 'kmeans_store_11',\n",
       "       'kmeans_store_12', 'kmeans_store_13', 'kmeans_store_14',\n",
       "       'kmeans_product_1', 'kmeans_product_2', 'kmeans_product_3',\n",
       "       'kmeans_product_4', 'kmeans_product_5', 'kmeans_product_6',\n",
       "       'kmeans_product_7', 'kmeans_product_8', 'kmeans_product_9',\n",
       "       'kmeans_route_2', 'kmeans_route_3', 'kmeans_route_4', 'kmeans_route_5',\n",
       "       'kmeans_route_6', 'kmeans_route_7', 'kmeans_route_8', 'kmeans_route_9',\n",
       "       'kmeans_route_10', 'kmeans_route_11', 'kmeans_route_12',\n",
       "       'kmeans_route_13', 'kmeans_route_14', 'kmeans_supplier_1',\n",
       "       'kmeans_supplier_2', 'kmeans_supplier_3', 'kmeans_supplier_4',\n",
       "       'kmeans_supplier_5', 'kmeans_supplier_6', 'kmeans_supplier_7',\n",
       "       'kmeans_supplier_8', 'kmeans_supplier_9'],\n",
       "      dtype='object')"
      ]
     },
     "execution_count": 55,
     "metadata": {
      "tags": []
     },
     "output_type": "execute_result"
    }
   ],
   "source": [
    "X_train.columns"
   ]
  },
  {
   "cell_type": "code",
   "execution_count": 56,
   "metadata": {
    "colab": {
     "base_uri": "https://localhost:8080/",
     "height": 354
    },
    "colab_type": "code",
    "id": "XPO-dlgQXsU_",
    "outputId": "7674cb33-8963-43c7-b58b-54d5fb04c281"
   },
   "outputs": [
    {
     "data": {
      "text/plain": [
       "Index(['channel_type_Department Stores', 'channel_type_Discount Retailer',\n",
       "       'channel_type_Grocery Stores', 'channel_type_Internet Retailers',\n",
       "       'channel_type_Specialty Retailers', 'channel_type_Supermarkets',\n",
       "       'channel_type_Warehouse Retailers', 'channel_type_Wholesale Retailers',\n",
       "       'kmeans_store_1', 'kmeans_store_2', 'kmeans_store_3', 'kmeans_store_4',\n",
       "       'kmeans_store_5', 'kmeans_store_6', 'kmeans_store_7', 'kmeans_store_8',\n",
       "       'kmeans_store_9', 'kmeans_store_10', 'kmeans_store_11',\n",
       "       'kmeans_store_12', 'kmeans_store_13', 'kmeans_store_14',\n",
       "       'kmeans_product_1', 'kmeans_product_2', 'kmeans_product_3',\n",
       "       'kmeans_product_4', 'kmeans_product_5', 'kmeans_product_6',\n",
       "       'kmeans_product_7', 'kmeans_product_8', 'kmeans_product_9',\n",
       "       'kmeans_route_2', 'kmeans_route_3', 'kmeans_route_4', 'kmeans_route_5',\n",
       "       'kmeans_route_6', 'kmeans_route_7', 'kmeans_route_8', 'kmeans_route_9',\n",
       "       'kmeans_route_10', 'kmeans_route_11', 'kmeans_route_12',\n",
       "       'kmeans_route_13', 'kmeans_route_14', 'kmeans_supplier_1',\n",
       "       'kmeans_supplier_2', 'kmeans_supplier_3', 'kmeans_supplier_4',\n",
       "       'kmeans_supplier_5', 'kmeans_supplier_6', 'kmeans_supplier_7',\n",
       "       'kmeans_supplier_8', 'kmeans_supplier_9'],\n",
       "      dtype='object')"
      ]
     },
     "execution_count": 56,
     "metadata": {
      "tags": []
     },
     "output_type": "execute_result"
    }
   ],
   "source": [
    "X_val.columns"
   ]
  },
  {
   "cell_type": "markdown",
   "metadata": {
    "colab_type": "text",
    "id": "dN9vFnNg7-YV"
   },
   "source": [
    "## <a name=7>Model Building<a/>\n",
    "<a href=#0>(Go to Contents)<a/>"
   ]
  },
  {
   "cell_type": "markdown",
   "metadata": {
    "colab_type": "text",
    "id": "Sz04ijnT8DOI"
   },
   "source": [
    "### Decision Tree Regressor"
   ]
  },
  {
   "cell_type": "code",
   "execution_count": null,
   "metadata": {
    "colab": {},
    "colab_type": "code",
    "id": "Z64aHLwsXiOs"
   },
   "outputs": [],
   "source": [
    "regressor = DecisionTreeRegressor() #random_state = 1729, max_depth= 50, min_samples_split = 10)"
   ]
  },
  {
   "cell_type": "markdown",
   "metadata": {
    "colab_type": "text",
    "id": "tPRSc1M_8J9h"
   },
   "source": [
    "Fit the train data"
   ]
  },
  {
   "cell_type": "code",
   "execution_count": 59,
   "metadata": {
    "colab": {
     "base_uri": "https://localhost:8080/",
     "height": 105
    },
    "colab_type": "code",
    "id": "KNqEJO4zW26r",
    "outputId": "9bb88a3f-3438-470e-ef76-267e24856811"
   },
   "outputs": [
    {
     "data": {
      "text/plain": [
       "DecisionTreeRegressor(criterion='mse', max_depth=None, max_features=None,\n",
       "                      max_leaf_nodes=None, min_impurity_decrease=0.0,\n",
       "                      min_impurity_split=None, min_samples_leaf=1,\n",
       "                      min_samples_split=2, min_weight_fraction_leaf=0.0,\n",
       "                      presort=False, random_state=None, splitter='best')"
      ]
     },
     "execution_count": 59,
     "metadata": {
      "tags": []
     },
     "output_type": "execute_result"
    }
   ],
   "source": [
    "regressor.fit(X_train, y_train) "
   ]
  },
  {
   "cell_type": "markdown",
   "metadata": {
    "colab_type": "text",
    "id": "w849pjF98ezt"
   },
   "source": [
    "Predicting on train data and calculating RMSE"
   ]
  },
  {
   "cell_type": "code",
   "execution_count": null,
   "metadata": {
    "colab": {},
    "colab_type": "code",
    "id": "OyDpf1hfWuaR"
   },
   "outputs": [],
   "source": [
    "y_pred = regressor.predict(X_train)"
   ]
  },
  {
   "cell_type": "code",
   "execution_count": 61,
   "metadata": {
    "colab": {
     "base_uri": "https://localhost:8080/",
     "height": 34
    },
    "colab_type": "code",
    "id": "8uQLg-Amtc4H",
    "outputId": "55f3d769-26e6-405b-b657-35c572f758e7"
   },
   "outputs": [
    {
     "name": "stdout",
     "output_type": "stream",
     "text": [
      "16.56850772745381\n"
     ]
    }
   ],
   "source": [
    "dtr_train_rmse = sqrt(mean_squared_error(y_train, y_pred))\n",
    "print(dtr_train_rmse)"
   ]
  },
  {
   "cell_type": "markdown",
   "metadata": {
    "colab_type": "text",
    "id": "tullKwlY8cfF"
   },
   "source": [
    "Predicting on validation data and calculating RMSE"
   ]
  },
  {
   "cell_type": "code",
   "execution_count": null,
   "metadata": {
    "colab": {},
    "colab_type": "code",
    "id": "-xBdjWJmav6p"
   },
   "outputs": [],
   "source": [
    "y_val_pred = regressor.predict(X_val)"
   ]
  },
  {
   "cell_type": "code",
   "execution_count": 63,
   "metadata": {
    "colab": {
     "base_uri": "https://localhost:8080/",
     "height": 34
    },
    "colab_type": "code",
    "id": "73eIhMo5t-GN",
    "outputId": "ee48a380-8dbf-4158-bdff-836912226f12"
   },
   "outputs": [
    {
     "name": "stdout",
     "output_type": "stream",
     "text": [
      "18.26746430761439\n"
     ]
    }
   ],
   "source": [
    "dtr_val_rmse = sqrt(mean_squared_error(y_val, y_val_pred))\n",
    "print(dtr_val_rmse)"
   ]
  },
  {
   "cell_type": "markdown",
   "metadata": {
    "colab_type": "text",
    "id": "LL-FBrat8-vr"
   },
   "source": [
    "### Gradiant Boost Regressor"
   ]
  },
  {
   "cell_type": "code",
   "execution_count": null,
   "metadata": {
    "colab": {},
    "colab_type": "code",
    "id": "CCvV0vs59Hg8"
   },
   "outputs": [],
   "source": [
    "params = {'n_estimators': 20, 'max_depth': 8, 'min_samples_split': 2,\n",
    "          'learning_rate': 0.01, 'loss': 'ls'}\n",
    "clf = ensemble.GradientBoostingRegressor(**params)"
   ]
  },
  {
   "cell_type": "code",
   "execution_count": 65,
   "metadata": {
    "colab": {
     "base_uri": "https://localhost:8080/",
     "height": 176
    },
    "colab_type": "code",
    "id": "5qiWzTX39HeV",
    "outputId": "77b12728-48b4-4d6b-cfc7-117e85a2a696"
   },
   "outputs": [
    {
     "data": {
      "text/plain": [
       "GradientBoostingRegressor(alpha=0.9, criterion='friedman_mse', init=None,\n",
       "                          learning_rate=0.01, loss='ls', max_depth=8,\n",
       "                          max_features=None, max_leaf_nodes=None,\n",
       "                          min_impurity_decrease=0.0, min_impurity_split=None,\n",
       "                          min_samples_leaf=1, min_samples_split=2,\n",
       "                          min_weight_fraction_leaf=0.0, n_estimators=20,\n",
       "                          n_iter_no_change=None, presort='auto',\n",
       "                          random_state=None, subsample=1.0, tol=0.0001,\n",
       "                          validation_fraction=0.1, verbose=0, warm_start=False)"
      ]
     },
     "execution_count": 65,
     "metadata": {
      "tags": []
     },
     "output_type": "execute_result"
    }
   ],
   "source": [
    "clf.fit(X_train, y_train)"
   ]
  },
  {
   "cell_type": "code",
   "execution_count": 66,
   "metadata": {
    "colab": {
     "base_uri": "https://localhost:8080/",
     "height": 34
    },
    "colab_type": "code",
    "id": "t792U31o9g6f",
    "outputId": "0aa86ad0-24ad-4642-b40f-2934136d6ca3"
   },
   "outputs": [
    {
     "name": "stdout",
     "output_type": "stream",
     "text": [
      "RMSE: 20.54\n"
     ]
    }
   ],
   "source": [
    "gbr_train_rmse = sqrt(mean_squared_error(y_train, clf.predict(X_train)))\n",
    "print(\"RMSE: %.2f\" % gbr_train_rmse)"
   ]
  },
  {
   "cell_type": "code",
   "execution_count": 67,
   "metadata": {
    "colab": {
     "base_uri": "https://localhost:8080/",
     "height": 34
    },
    "colab_type": "code",
    "id": "QaY-o5L09gvu",
    "outputId": "9069fb86-08a5-4a5b-dc04-7ea4d03b814b"
   },
   "outputs": [
    {
     "name": "stdout",
     "output_type": "stream",
     "text": [
      "RMSE: 20.8838\n"
     ]
    }
   ],
   "source": [
    "gbr_val_rmse = sqrt(mean_squared_error(y_val, clf.predict(X_val)))\n",
    "print(\"RMSE: %.4f\" % gbr_val_rmse)"
   ]
  },
  {
   "cell_type": "code",
   "execution_count": 68,
   "metadata": {
    "colab": {
     "base_uri": "https://localhost:8080/",
     "height": 347
    },
    "colab_type": "code",
    "id": "1hguQBh49HcE",
    "outputId": "997d7320-61cc-4b4f-b0e0-1523a975accd"
   },
   "outputs": [
    {
     "name": "stdout",
     "output_type": "stream",
     "text": [
      "[36  3 10  7 39 46 47 21 31 19 35 43 50 38 49 33 44 24  0 34 32 23 40 14\n",
      " 42 17  6 11  9 18 29 52 41 12 45 51 30  5 22 48 27  1 15  2 13 25 28 37\n",
      " 16 26 20  8  4]\n"
     ]
    },
    {
     "data": {
      "image/png": "[encoded data removed]",
      "text/plain": [
       "<Figure size 432x288 with 1 Axes>"
      ]
     },
     "metadata": {
      "tags": []
     },
     "output_type": "display_data"
    }
   ],
   "source": [
    "importances = clf.feature_importances_\n",
    "indices = np.argsort(importances)\n",
    "print(indices)\n",
    "\n",
    "features = X_train.columns\n",
    "\n",
    "plt.title('Feature Importances')\n",
    "plt.barh(range(len(indices)),importances[indices], color='g')\n",
    "plt.yticks(range(len(indices)), [features[i] for i in indices])\n",
    "plt.xlabel('Relative Importance')\n",
    "plt.show()"
   ]
  },
  {
   "cell_type": "code",
   "execution_count": null,
   "metadata": {
    "colab": {},
    "colab_type": "code",
    "id": "wIhvuZppC4AY"
   },
   "outputs": [],
   "source": [
    "# Fit regression model\n",
    "params = {'n_estimators': 51, 'max_depth': 10, 'min_samples_split': 2,\n",
    "          'learning_rate': 0.01, 'loss': 'ls'}\n",
    "clf2 = ensemble.GradientBoostingRegressor(**params)"
   ]
  },
  {
   "cell_type": "code",
   "execution_count": null,
   "metadata": {
    "colab": {},
    "colab_type": "code",
    "id": "GoDKo0q8C8N9"
   },
   "outputs": [],
   "source": [
    "clf2.fit(X_train, y_train)"
   ]
  },
  {
   "cell_type": "code",
   "execution_count": null,
   "metadata": {
    "colab": {},
    "colab_type": "code",
    "id": "PMPy6MSRC8Lr"
   },
   "outputs": [],
   "source": [
    "rmse = sqrt(mean_squared_error(y_train, clf2.predict(X_train)))\n",
    "print(\"Train RMSE: %.4f\" % rmse)\n",
    "rmse = sqrt(mean_squared_error(y_val, clf2.predict(X_val)))\n",
    "print(\"Test RMSE: %.4f\" % rmse)"
   ]
  },
  {
   "cell_type": "code",
   "execution_count": null,
   "metadata": {
    "colab": {},
    "colab_type": "code",
    "id": "rlgrQ2J_xnK8"
   },
   "outputs": [],
   "source": [
    "#================END================"
   ]
  },
  {
   "cell_type": "markdown",
   "metadata": {
    "colab_type": "text",
    "id": "2NT1IOyosj2_"
   },
   "source": [
    "Try including the price columns"
   ]
  },
  {
   "cell_type": "code",
   "execution_count": null,
   "metadata": {
    "colab": {
     "base_uri": "https://localhost:8080/",
     "height": 230
    },
    "colab_type": "code",
    "id": "VQKNsUqY_tZH",
    "outputId": "290f9efd-b5ef-4bbf-e3e3-510ae81af42a"
   },
   "outputs": [
    {
     "data": {
      "text/plain": [
       "experiment_week                0\n",
       "channel_type                   0\n",
       "demand_projection              0\n",
       "kmeans_store                   0\n",
       "kmeans_product                 0\n",
       "kmeans_route                   0\n",
       "kmeans_supplier                0\n",
       "num_units_sold_in_week         0\n",
       "sales_revenue_in_week          0\n",
       "num_units_returned             0\n",
       "returned_units_revenue_loss    0\n",
       "dtype: int64"
      ]
     },
     "execution_count": 91,
     "metadata": {
      "tags": []
     },
     "output_type": "execute_result"
    }
   ],
   "source": [
    "traindata.isnull().sum()"
   ]
  },
  {
   "cell_type": "code",
   "execution_count": null,
   "metadata": {
    "colab": {
     "base_uri": "https://localhost:8080/",
     "height": 217
    },
    "colab_type": "code",
    "id": "0pwwA8e3JXnb",
    "outputId": "54d606a4-7166-4532-fd99-a55fd56ea55a"
   },
   "outputs": [
    {
     "data": {
      "text/html": [
       "<div>\n",
       "<style scoped>\n",
       "    .dataframe tbody tr th:only-of-type {\n",
       "        vertical-align: middle;\n",
       "    }\n",
       "\n",
       "    .dataframe tbody tr th {\n",
       "        vertical-align: top;\n",
       "    }\n",
       "\n",
       "    .dataframe thead th {\n",
       "        text-align: right;\n",
       "    }\n",
       "</style>\n",
       "<table border=\"1\" class=\"dataframe\">\n",
       "  <thead>\n",
       "    <tr style=\"text-align: right;\">\n",
       "      <th></th>\n",
       "      <th>channel_type</th>\n",
       "      <th>demand_projection</th>\n",
       "      <th>kmeans_store</th>\n",
       "      <th>kmeans_product</th>\n",
       "      <th>kmeans_route</th>\n",
       "      <th>kmeans_supplier</th>\n",
       "      <th>num_units_sold_in_week</th>\n",
       "      <th>sales_revenue_in_week</th>\n",
       "      <th>num_units_returned</th>\n",
       "      <th>returned_units_revenue_loss</th>\n",
       "    </tr>\n",
       "  </thead>\n",
       "  <tbody>\n",
       "    <tr>\n",
       "      <th>0</th>\n",
       "      <td>Grocery Stores</td>\n",
       "      <td>65</td>\n",
       "      <td>11</td>\n",
       "      <td>9</td>\n",
       "      <td>1</td>\n",
       "      <td>1</td>\n",
       "      <td>65</td>\n",
       "      <td>4387.500000</td>\n",
       "      <td>0</td>\n",
       "      <td>0.000000</td>\n",
       "    </tr>\n",
       "    <tr>\n",
       "      <th>2</th>\n",
       "      <td>Grocery Stores</td>\n",
       "      <td>9</td>\n",
       "      <td>8</td>\n",
       "      <td>9</td>\n",
       "      <td>4</td>\n",
       "      <td>9</td>\n",
       "      <td>9</td>\n",
       "      <td>1262.250000</td>\n",
       "      <td>0</td>\n",
       "      <td>0.000000</td>\n",
       "    </tr>\n",
       "    <tr>\n",
       "      <th>3</th>\n",
       "      <td>Grocery Stores</td>\n",
       "      <td>5</td>\n",
       "      <td>11</td>\n",
       "      <td>9</td>\n",
       "      <td>1</td>\n",
       "      <td>1</td>\n",
       "      <td>5</td>\n",
       "      <td>583.500000</td>\n",
       "      <td>0</td>\n",
       "      <td>0.000000</td>\n",
       "    </tr>\n",
       "    <tr>\n",
       "      <th>5</th>\n",
       "      <td>Grocery Stores</td>\n",
       "      <td>4</td>\n",
       "      <td>11</td>\n",
       "      <td>6</td>\n",
       "      <td>2</td>\n",
       "      <td>5</td>\n",
       "      <td>4</td>\n",
       "      <td>360.000000</td>\n",
       "      <td>0</td>\n",
       "      <td>0.000000</td>\n",
       "    </tr>\n",
       "    <tr>\n",
       "      <th>7</th>\n",
       "      <td>Grocery Stores</td>\n",
       "      <td>2</td>\n",
       "      <td>11</td>\n",
       "      <td>2</td>\n",
       "      <td>10</td>\n",
       "      <td>1</td>\n",
       "      <td>2</td>\n",
       "      <td>225.000000</td>\n",
       "      <td>0</td>\n",
       "      <td>0.000000</td>\n",
       "    </tr>\n",
       "  </tbody>\n",
       "</table>\n",
       "</div>"
      ],
      "text/plain": [
       "     channel_type  ...  returned_units_revenue_loss\n",
       "0  Grocery Stores  ...                     0.000000\n",
       "2  Grocery Stores  ...                     0.000000\n",
       "3  Grocery Stores  ...                     0.000000\n",
       "5  Grocery Stores  ...                     0.000000\n",
       "7  Grocery Stores  ...                     0.000000\n",
       "\n",
       "[5 rows x 10 columns]"
      ]
     },
     "execution_count": 104,
     "metadata": {
      "tags": []
     },
     "output_type": "execute_result"
    }
   ],
   "source": [
    "train.head()"
   ]
  },
  {
   "cell_type": "markdown",
   "metadata": {
    "colab_type": "text",
    "id": "Qlv7GWXECgU-"
   },
   "source": [
    "Price of each unit = sales revenue/num of units sold"
   ]
  },
  {
   "cell_type": "code",
   "execution_count": null,
   "metadata": {
    "colab": {
     "base_uri": "https://localhost:8080/",
     "height": 123
    },
    "colab_type": "code",
    "id": "QTwnERzgFOb1",
    "outputId": "5c0e476f-210f-4451-fd7d-80b84398d7a7"
   },
   "outputs": [],
   "source": [
    "train['price_of_each_unit'] = train.sales_revenue_in_week/train.num_units_sold_in_week"
   ]
  },
  {
   "cell_type": "code",
   "execution_count": null,
   "metadata": {
    "colab": {
     "base_uri": "https://localhost:8080/",
     "height": 123
    },
    "colab_type": "code",
    "id": "d1nIUwvPFhRN",
    "outputId": "a4dfa7ab-8fa7-489d-d41f-55101314da58"
   },
   "outputs": [],
   "source": [
    "val['price_of_each_unit'] = val.sales_revenue_in_week/val.num_units_sold_in_week"
   ]
  },
  {
   "cell_type": "markdown",
   "metadata": {
    "colab_type": "text",
    "id": "Xy5LuSv0Cpel"
   },
   "source": [
    "Checking for null values"
   ]
  },
  {
   "cell_type": "code",
   "execution_count": null,
   "metadata": {
    "colab": {
     "base_uri": "https://localhost:8080/",
     "height": 230
    },
    "colab_type": "code",
    "id": "bQfMmkudFOWk",
    "outputId": "e38e3539-41a8-45a1-e37e-adb7fb9ab40a"
   },
   "outputs": [
    {
     "data": {
      "text/plain": [
       "channel_type                       0\n",
       "demand_projection                  0\n",
       "kmeans_store                       0\n",
       "kmeans_product                     0\n",
       "kmeans_route                       0\n",
       "kmeans_supplier                    0\n",
       "num_units_sold_in_week             0\n",
       "sales_revenue_in_week              0\n",
       "num_units_returned                 0\n",
       "returned_units_revenue_loss        0\n",
       "price_of_each_unit             15801\n",
       "dtype: int64"
      ]
     },
     "execution_count": 107,
     "metadata": {
      "tags": []
     },
     "output_type": "execute_result"
    }
   ],
   "source": [
    "train.isnull().sum() #*100/len(traindata)"
   ]
  },
  {
   "cell_type": "markdown",
   "metadata": {
    "colab_type": "text",
    "id": "OvsG6LCfCmEn"
   },
   "source": [
    "Filling the null values to 0"
   ]
  },
  {
   "cell_type": "code",
   "execution_count": null,
   "metadata": {
    "colab": {
     "base_uri": "https://localhost:8080/",
     "height": 105
    },
    "colab_type": "code",
    "id": "xKZWRzOmFnos",
    "outputId": "b9a0e11c-52fe-4a15-854c-76be0b0287f5"
   },
   "outputs": [],
   "source": [
    "train.fillna(0, inplace= True)"
   ]
  },
  {
   "cell_type": "code",
   "execution_count": null,
   "metadata": {
    "colab": {
     "base_uri": "https://localhost:8080/",
     "height": 105
    },
    "colab_type": "code",
    "id": "kEBRvXl6JoSW",
    "outputId": "ffd14c74-1320-4f3f-8c6c-b9b8afa1f6c0"
   },
   "outputs": [],
   "source": [
    "val.fillna(0, inplace= True)"
   ]
  },
  {
   "cell_type": "code",
   "execution_count": null,
   "metadata": {
    "colab": {
     "base_uri": "https://localhost:8080/",
     "height": 105
    },
    "colab_type": "code",
    "id": "wslHfILKK3st",
    "outputId": "50b40568-3ebf-4da1-bcad-9ca5f2089f70"
   },
   "outputs": [
    {
     "data": {
      "text/plain": [
       "Index(['channel_type', 'demand_projection', 'kmeans_store', 'kmeans_product',\n",
       "       'kmeans_route', 'kmeans_supplier', 'num_units_sold_in_week',\n",
       "       'sales_revenue_in_week', 'num_units_returned',\n",
       "       'returned_units_revenue_loss', 'price_of_each_unit'],\n",
       "      dtype='object')"
      ]
     },
     "execution_count": 112,
     "metadata": {
      "tags": []
     },
     "output_type": "execute_result"
    }
   ],
   "source": [
    "train.columns"
   ]
  },
  {
   "cell_type": "code",
   "execution_count": null,
   "metadata": {
    "colab": {
     "base_uri": "https://localhost:8080/",
     "height": 52
    },
    "colab_type": "code",
    "id": "gvXfUrTiKVvR",
    "outputId": "cf748669-9a3f-4f11-cfa8-6a8b35d60982"
   },
   "outputs": [
    {
     "name": "stdout",
     "output_type": "stream",
     "text": [
      "(4295788, 54)\n",
      "(1040700, 54)\n"
     ]
    }
   ],
   "source": [
    "X_train = train.drop(['demand_projection','num_units_sold_in_week', 'sales_revenue_in_week', 'num_units_returned','returned_units_revenue_loss'],axis = 1)\n",
    "y_train = train['demand_projection']\n",
    "X_val = val.drop(['demand_projection','num_units_sold_in_week', 'sales_revenue_in_week', 'num_units_returned','returned_units_revenue_loss'],axis = 1)\n",
    "y_val = val['demand_projection']\n",
    "for i in X_train.columns.difference(['price_of_each_unit']):\n",
    "  X_train[i] = X_train[i].astype('category')\n",
    "for i in X_val.columns.difference(['price_of_each_unit']):\n",
    "  X_val[i] = X_val[i].astype('category')\n",
    "\n",
    "X_train = pd.get_dummies(data=X_train,drop_first=True)\n",
    "print(X_train.shape)\n",
    "\n",
    "X_val = pd.get_dummies(data=X_val,drop_first=True)\n",
    "print(X_val.shape)\n"
   ]
  },
  {
   "cell_type": "markdown",
   "metadata": {
    "colab_type": "text",
    "id": "VSyUo39_Ct9A"
   },
   "source": [
    "Decision tree regressor for prediction"
   ]
  },
  {
   "cell_type": "code",
   "execution_count": null,
   "metadata": {
    "colab": {
     "base_uri": "https://localhost:8080/",
     "height": 52
    },
    "colab_type": "code",
    "id": "kcHedgVXFOJw",
    "outputId": "3689a6fe-589b-4a8d-ddee-ad90f6a5b611"
   },
   "outputs": [
    {
     "name": "stdout",
     "output_type": "stream",
     "text": [
      "11.234407823378296\n",
      "18.23117859415205\n"
     ]
    }
   ],
   "source": [
    "regressor = DecisionTreeRegressor() \n",
    "regressor.fit(X_train, y_train) \n",
    "y_pred = regressor.predict(X_train)\n",
    "rms = sqrt(mean_squared_error(y_train, y_pred))\n",
    "print(rms)\n",
    "y_val_pred = regressor.predict(X_val)\n",
    "rms_val = sqrt(mean_squared_error(y_val, y_val_pred))\n",
    "print(rms_val)"
   ]
  },
  {
   "cell_type": "code",
   "execution_count": null,
   "metadata": {
    "colab": {
     "base_uri": "https://localhost:8080/",
     "height": 34
    },
    "colab_type": "code",
    "id": "TVph_qmqv3lT",
    "outputId": "550f0ca3-bc27-4e65-d75c-e06549f5e7c3"
   },
   "outputs": [
    {
     "name": "stdout",
     "output_type": "stream",
     "text": [
      "RMSE: 18.8633\n"
     ]
    }
   ],
   "source": [
    "rmse = sqrt(mean_squared_error(y_train, clf2.predict(X_train)))\n",
    "print(\"RMSE: %.4f\" % rmse)\n"
   ]
  },
  {
   "cell_type": "code",
   "execution_count": null,
   "metadata": {
    "colab": {
     "base_uri": "https://localhost:8080/",
     "height": 34
    },
    "colab_type": "code",
    "id": "j6VvssxBv3gU",
    "outputId": "86bcda1e-b93f-4c2d-e77f-8182ec988be7"
   },
   "outputs": [
    {
     "name": "stdout",
     "output_type": "stream",
     "text": [
      "RMSE: 22.7120\n"
     ]
    }
   ],
   "source": [
    "rmse = sqrt(mean_squared_error(y_val, clf2.predict(X_val)))\n",
    "print(\"RMSE: %.4f\" % rmse)"
   ]
  },
  {
   "cell_type": "markdown",
   "metadata": {
    "colab_type": "text",
    "id": "IyA4FT6Ey5Rj"
   },
   "source": [
    "## <a name=8>Test Data Predictions<a/>\n",
    "<a href=#0>(Go to Contents)<a/>"
   ]
  },
  {
   "cell_type": "markdown",
   "metadata": {},
   "source": [
    "#### Import test data"
   ]
  },
  {
   "cell_type": "code",
   "execution_count": null,
   "metadata": {
    "colab": {},
    "colab_type": "code",
    "id": "-RdTDZPrZ632"
   },
   "outputs": [],
   "source": [
    "test=pd.read_csv('/content/gdrive/My Drive/test.csv')"
   ]
  },
  {
   "cell_type": "markdown",
   "metadata": {
    "colab_type": "text",
    "id": "7mwszkPpz8nX"
   },
   "source": [
    "#### Perform feature engineering on test data\n",
    "Replace the non-numerical columns with their respective kmeans clusters"
   ]
  },
  {
   "cell_type": "code",
   "execution_count": null,
   "metadata": {
    "colab": {
     "base_uri": "https://localhost:8080/",
     "height": 165
    },
    "colab_type": "code",
    "id": "9rMnQKIYQIxH",
    "outputId": "7c991535-3b4f-4239-9472-c464f3d38b95"
   },
   "outputs": [
    {
     "data": {
      "text/html": [
       "<div>\n",
       "<style scoped>\n",
       "    .dataframe tbody tr th:only-of-type {\n",
       "        vertical-align: middle;\n",
       "    }\n",
       "\n",
       "    .dataframe tbody tr th {\n",
       "        vertical-align: top;\n",
       "    }\n",
       "\n",
       "    .dataframe thead th {\n",
       "        text-align: right;\n",
       "    }\n",
       "</style>\n",
       "<table border=\"1\" class=\"dataframe\">\n",
       "  <thead>\n",
       "    <tr style=\"text-align: right;\">\n",
       "      <th></th>\n",
       "      <th>id</th>\n",
       "      <th>experiment_week</th>\n",
       "      <th>channel_type</th>\n",
       "      <th>supplier_identifier</th>\n",
       "      <th>category_of_route</th>\n",
       "      <th>store_identifier</th>\n",
       "      <th>product_identifier</th>\n",
       "      <th>label</th>\n",
       "      <th>kmeans_store</th>\n",
       "    </tr>\n",
       "  </thead>\n",
       "  <tbody>\n",
       "    <tr>\n",
       "      <th>0</th>\n",
       "      <td>1</td>\n",
       "      <td>Week 6 of 2019</td>\n",
       "      <td>Warehouse Retailers</td>\n",
       "      <td>supplier_identifier_055f7</td>\n",
       "      <td>route_67047</td>\n",
       "      <td>store_fc6aa</td>\n",
       "      <td>product_cbfad</td>\n",
       "      <td>store_fc6aa</td>\n",
       "      <td>0.0</td>\n",
       "    </tr>\n",
       "    <tr>\n",
       "      <th>1</th>\n",
       "      <td>2</td>\n",
       "      <td>Week 6 of 2019</td>\n",
       "      <td>Warehouse Retailers</td>\n",
       "      <td>supplier_identifier_055f7</td>\n",
       "      <td>route_67047</td>\n",
       "      <td>store_fc6aa</td>\n",
       "      <td>product_2b363</td>\n",
       "      <td>store_fc6aa</td>\n",
       "      <td>0.0</td>\n",
       "    </tr>\n",
       "  </tbody>\n",
       "</table>\n",
       "</div>"
      ],
      "text/plain": [
       "   id experiment_week  ...        label kmeans_store\n",
       "0   1  Week 6 of 2019  ...  store_fc6aa          0.0\n",
       "1   2  Week 6 of 2019  ...  store_fc6aa          0.0\n",
       "\n",
       "[2 rows x 9 columns]"
      ]
     },
     "execution_count": 57,
     "metadata": {
      "tags": []
     },
     "output_type": "execute_result"
    }
   ],
   "source": [
    "merged_test_df = pd.merge(test, kmeans_store,  how='left', left_on='store_identifier', right_on = 'label')\n",
    "merged_test_df.head(2)"
   ]
  },
  {
   "cell_type": "code",
   "execution_count": null,
   "metadata": {
    "colab": {
     "base_uri": "https://localhost:8080/",
     "height": 111
    },
    "colab_type": "code",
    "id": "mECuEUJsRIgV",
    "outputId": "929a7858-9754-4ad6-ed3e-9e497c8f63bd"
   },
   "outputs": [
    {
     "data": {
      "text/html": [
       "<div>\n",
       "<style scoped>\n",
       "    .dataframe tbody tr th:only-of-type {\n",
       "        vertical-align: middle;\n",
       "    }\n",
       "\n",
       "    .dataframe tbody tr th {\n",
       "        vertical-align: top;\n",
       "    }\n",
       "\n",
       "    .dataframe thead th {\n",
       "        text-align: right;\n",
       "    }\n",
       "</style>\n",
       "<table border=\"1\" class=\"dataframe\">\n",
       "  <thead>\n",
       "    <tr style=\"text-align: right;\">\n",
       "      <th></th>\n",
       "      <th>id</th>\n",
       "      <th>experiment_week</th>\n",
       "      <th>channel_type</th>\n",
       "      <th>kmeans_store</th>\n",
       "      <th>kmeans_product</th>\n",
       "      <th>kmeans_route</th>\n",
       "      <th>kmeans_supplier</th>\n",
       "    </tr>\n",
       "  </thead>\n",
       "  <tbody>\n",
       "    <tr>\n",
       "      <th>0</th>\n",
       "      <td>1</td>\n",
       "      <td>Week 6 of 2019</td>\n",
       "      <td>Warehouse Retailers</td>\n",
       "      <td>0.0</td>\n",
       "      <td>5.0</td>\n",
       "      <td>9.0</td>\n",
       "      <td>0</td>\n",
       "    </tr>\n",
       "    <tr>\n",
       "      <th>1</th>\n",
       "      <td>2</td>\n",
       "      <td>Week 6 of 2019</td>\n",
       "      <td>Warehouse Retailers</td>\n",
       "      <td>0.0</td>\n",
       "      <td>6.0</td>\n",
       "      <td>9.0</td>\n",
       "      <td>0</td>\n",
       "    </tr>\n",
       "  </tbody>\n",
       "</table>\n",
       "</div>"
      ],
      "text/plain": [
       "   id experiment_week  ... kmeans_route  kmeans_supplier\n",
       "0   1  Week 6 of 2019  ...          9.0                0\n",
       "1   2  Week 6 of 2019  ...          9.0                0\n",
       "\n",
       "[2 rows x 7 columns]"
      ]
     },
     "execution_count": 65,
     "metadata": {
      "tags": []
     },
     "output_type": "execute_result"
    }
   ],
   "source": [
    "merged_test_df = merged_test_df.drop(['store_identifier','label'], axis = 1)\n",
    "merged_test_df = pd.merge(merged_test_df, kmeans_product,  how='left', left_on='product_identifier', right_on = 'label')\n",
    "merged_test_df = merged_test_df.drop(['product_identifier','label'], axis = 1)\n",
    "merged_test_df = pd.merge(merged_test_df, kmeans_route,  how='left', left_on='category_of_route', right_on = 'label')\n",
    "merged_test_df = merged_test_df.drop(['category_of_route','label'], axis = 1)\n",
    "merged_test_df = pd.merge(merged_test_df, kmeans_supplier,  how='left', left_on='supplier_identifier', right_on = 'label')\n",
    "merged_test_df = merged_test_df.drop(['supplier_identifier','label'], axis = 1)\n",
    "merged_test_df.head(2)"
   ]
  },
  {
   "cell_type": "code",
   "execution_count": null,
   "metadata": {
    "colab": {
     "base_uri": "https://localhost:8080/",
     "height": 153
    },
    "colab_type": "code",
    "id": "vy1RPbGrZ-SV",
    "outputId": "794e1d95-2c7e-49be-f4c3-5c374f35da8a"
   },
   "outputs": [
    {
     "data": {
      "text/plain": [
       "id                   int64\n",
       "experiment_week     object\n",
       "channel_type        object\n",
       "kmeans_store       float64\n",
       "kmeans_product     float64\n",
       "kmeans_route       float64\n",
       "kmeans_supplier      int64\n",
       "dtype: object"
      ]
     },
     "execution_count": 65,
     "metadata": {
      "tags": []
     },
     "output_type": "execute_result"
    }
   ],
   "source": [
    "merged_test_df.dtypes"
   ]
  },
  {
   "cell_type": "code",
   "execution_count": null,
   "metadata": {
    "colab": {
     "base_uri": "https://localhost:8080/",
     "height": 68
    },
    "colab_type": "code",
    "id": "fvb7SNlGaKrv",
    "outputId": "52ee057b-35f1-40ea-ef6c-e3059307cb8d"
   },
   "outputs": [
    {
     "data": {
      "text/plain": [
       "Index(['id', 'experiment_week', 'channel_type', 'kmeans_store',\n",
       "       'kmeans_product', 'kmeans_route', 'kmeans_supplier'],\n",
       "      dtype='object')"
      ]
     },
     "execution_count": 66,
     "metadata": {
      "tags": []
     },
     "output_type": "execute_result"
    }
   ],
   "source": [
    "merged_test_df.columns"
   ]
  },
  {
   "cell_type": "code",
   "execution_count": null,
   "metadata": {
    "colab": {},
    "colab_type": "code",
    "id": "HJhlxQqeaVsb"
   },
   "outputs": [],
   "source": [
    "X_test = merged_test_df.drop(['experiment_week'],axis = 1)"
   ]
  },
  {
   "cell_type": "markdown",
   "metadata": {
    "colab_type": "text",
    "id": "GkpzkFTk0MqL"
   },
   "source": [
    "Getting the categorical columns to change the datatypes appropriately"
   ]
  },
  {
   "cell_type": "code",
   "execution_count": null,
   "metadata": {
    "colab": {},
    "colab_type": "code",
    "id": "xyvUPDlQaH6e"
   },
   "outputs": [],
   "source": [
    "test_cat_columns = ['channel_type', 'kmeans_store',\n",
    "       'kmeans_product', 'kmeans_route', 'kmeans_supplier']"
   ]
  },
  {
   "cell_type": "code",
   "execution_count": null,
   "metadata": {
    "colab": {},
    "colab_type": "code",
    "id": "xXPMIjDkaBLz"
   },
   "outputs": [],
   "source": [
    "for i in test_cat_columns:\n",
    "  X_test[i] = X_test[i].astype('category')"
   ]
  },
  {
   "cell_type": "code",
   "execution_count": null,
   "metadata": {
    "colab": {
     "base_uri": "https://localhost:8080/",
     "height": 136
    },
    "colab_type": "code",
    "id": "HLptOXyNadqD",
    "outputId": "5717a86f-1921-469f-c808-ae242415f49e"
   },
   "outputs": [
    {
     "data": {
      "text/plain": [
       "id                    int64\n",
       "channel_type       category\n",
       "kmeans_store       category\n",
       "kmeans_product     category\n",
       "kmeans_route       category\n",
       "kmeans_supplier    category\n",
       "dtype: object"
      ]
     },
     "execution_count": 69,
     "metadata": {
      "tags": []
     },
     "output_type": "execute_result"
    }
   ],
   "source": [
    "X_test.dtypes"
   ]
  },
  {
   "cell_type": "code",
   "execution_count": null,
   "metadata": {
    "colab": {},
    "colab_type": "code",
    "id": "ObhCHZSDZD63"
   },
   "outputs": [],
   "source": [
    "X_test = pd.get_dummies(data=X_test,drop_first=True)"
   ]
  },
  {
   "cell_type": "code",
   "execution_count": null,
   "metadata": {
    "colab": {
     "base_uri": "https://localhost:8080/",
     "height": 34
    },
    "colab_type": "code",
    "id": "UzyobKvHZ6Gk",
    "outputId": "50adfc30-629f-4bd4-dc71-b8f8f8563f44"
   },
   "outputs": [
    {
     "data": {
      "text/plain": [
       "(20815581, 54)"
      ]
     },
     "execution_count": 71,
     "metadata": {
      "tags": []
     },
     "output_type": "execute_result"
    }
   ],
   "source": [
    "X_test.shape"
   ]
  },
  {
   "cell_type": "code",
   "execution_count": null,
   "metadata": {
    "colab": {
     "base_uri": "https://localhost:8080/",
     "height": 148
    },
    "colab_type": "code",
    "id": "g1M1-ZbvarVv",
    "outputId": "c2c73dab-7d92-4b0a-f514-1734fcc22c69"
   },
   "outputs": [
    {
     "data": {
      "text/html": [
       "<div>\n",
       "<style scoped>\n",
       "    .dataframe tbody tr th:only-of-type {\n",
       "        vertical-align: middle;\n",
       "    }\n",
       "\n",
       "    .dataframe tbody tr th {\n",
       "        vertical-align: top;\n",
       "    }\n",
       "\n",
       "    .dataframe thead th {\n",
       "        text-align: right;\n",
       "    }\n",
       "</style>\n",
       "<table border=\"1\" class=\"dataframe\">\n",
       "  <thead>\n",
       "    <tr style=\"text-align: right;\">\n",
       "      <th></th>\n",
       "      <th>id</th>\n",
       "      <th>channel_type_Department Stores</th>\n",
       "      <th>channel_type_Discount Retailer</th>\n",
       "      <th>channel_type_Grocery Stores</th>\n",
       "      <th>channel_type_Internet Retailers</th>\n",
       "      <th>channel_type_Specialty Retailers</th>\n",
       "      <th>channel_type_Supermarkets</th>\n",
       "      <th>channel_type_Warehouse Retailers</th>\n",
       "      <th>channel_type_Wholesale Retailers</th>\n",
       "      <th>kmeans_store_1.0</th>\n",
       "      <th>kmeans_store_2.0</th>\n",
       "      <th>kmeans_store_3.0</th>\n",
       "      <th>kmeans_store_4.0</th>\n",
       "      <th>kmeans_store_5.0</th>\n",
       "      <th>kmeans_store_6.0</th>\n",
       "      <th>kmeans_store_7.0</th>\n",
       "      <th>kmeans_store_8.0</th>\n",
       "      <th>kmeans_store_9.0</th>\n",
       "      <th>kmeans_store_10.0</th>\n",
       "      <th>kmeans_store_11.0</th>\n",
       "      <th>kmeans_store_12.0</th>\n",
       "      <th>kmeans_store_13.0</th>\n",
       "      <th>kmeans_store_14.0</th>\n",
       "      <th>kmeans_product_1.0</th>\n",
       "      <th>kmeans_product_2.0</th>\n",
       "      <th>kmeans_product_3.0</th>\n",
       "      <th>kmeans_product_4.0</th>\n",
       "      <th>kmeans_product_5.0</th>\n",
       "      <th>kmeans_product_6.0</th>\n",
       "      <th>kmeans_product_7.0</th>\n",
       "      <th>kmeans_product_8.0</th>\n",
       "      <th>kmeans_product_9.0</th>\n",
       "      <th>kmeans_route_2.0</th>\n",
       "      <th>kmeans_route_3.0</th>\n",
       "      <th>kmeans_route_4.0</th>\n",
       "      <th>kmeans_route_5.0</th>\n",
       "      <th>kmeans_route_6.0</th>\n",
       "      <th>kmeans_route_7.0</th>\n",
       "      <th>kmeans_route_8.0</th>\n",
       "      <th>kmeans_route_9.0</th>\n",
       "      <th>kmeans_route_10.0</th>\n",
       "      <th>kmeans_route_11.0</th>\n",
       "      <th>kmeans_route_12.0</th>\n",
       "      <th>kmeans_route_13.0</th>\n",
       "      <th>kmeans_route_14.0</th>\n",
       "      <th>kmeans_supplier_1</th>\n",
       "      <th>kmeans_supplier_2</th>\n",
       "      <th>kmeans_supplier_3</th>\n",
       "      <th>kmeans_supplier_4</th>\n",
       "      <th>kmeans_supplier_5</th>\n",
       "      <th>kmeans_supplier_6</th>\n",
       "      <th>kmeans_supplier_7</th>\n",
       "      <th>kmeans_supplier_8</th>\n",
       "      <th>kmeans_supplier_9</th>\n",
       "    </tr>\n",
       "  </thead>\n",
       "  <tbody>\n",
       "    <tr>\n",
       "      <th>0</th>\n",
       "      <td>1</td>\n",
       "      <td>0</td>\n",
       "      <td>0</td>\n",
       "      <td>0</td>\n",
       "      <td>0</td>\n",
       "      <td>0</td>\n",
       "      <td>0</td>\n",
       "      <td>1</td>\n",
       "      <td>0</td>\n",
       "      <td>0</td>\n",
       "      <td>0</td>\n",
       "      <td>0</td>\n",
       "      <td>0</td>\n",
       "      <td>0</td>\n",
       "      <td>0</td>\n",
       "      <td>0</td>\n",
       "      <td>0</td>\n",
       "      <td>0</td>\n",
       "      <td>0</td>\n",
       "      <td>0</td>\n",
       "      <td>0</td>\n",
       "      <td>0</td>\n",
       "      <td>0</td>\n",
       "      <td>0</td>\n",
       "      <td>0</td>\n",
       "      <td>0</td>\n",
       "      <td>0</td>\n",
       "      <td>1</td>\n",
       "      <td>0</td>\n",
       "      <td>0</td>\n",
       "      <td>0</td>\n",
       "      <td>0</td>\n",
       "      <td>0</td>\n",
       "      <td>0</td>\n",
       "      <td>0</td>\n",
       "      <td>0</td>\n",
       "      <td>0</td>\n",
       "      <td>0</td>\n",
       "      <td>0</td>\n",
       "      <td>1</td>\n",
       "      <td>0</td>\n",
       "      <td>0</td>\n",
       "      <td>0</td>\n",
       "      <td>0</td>\n",
       "      <td>0</td>\n",
       "      <td>0</td>\n",
       "      <td>0</td>\n",
       "      <td>0</td>\n",
       "      <td>0</td>\n",
       "      <td>0</td>\n",
       "      <td>0</td>\n",
       "      <td>0</td>\n",
       "      <td>0</td>\n",
       "      <td>0</td>\n",
       "    </tr>\n",
       "    <tr>\n",
       "      <th>1</th>\n",
       "      <td>2</td>\n",
       "      <td>0</td>\n",
       "      <td>0</td>\n",
       "      <td>0</td>\n",
       "      <td>0</td>\n",
       "      <td>0</td>\n",
       "      <td>0</td>\n",
       "      <td>1</td>\n",
       "      <td>0</td>\n",
       "      <td>0</td>\n",
       "      <td>0</td>\n",
       "      <td>0</td>\n",
       "      <td>0</td>\n",
       "      <td>0</td>\n",
       "      <td>0</td>\n",
       "      <td>0</td>\n",
       "      <td>0</td>\n",
       "      <td>0</td>\n",
       "      <td>0</td>\n",
       "      <td>0</td>\n",
       "      <td>0</td>\n",
       "      <td>0</td>\n",
       "      <td>0</td>\n",
       "      <td>0</td>\n",
       "      <td>0</td>\n",
       "      <td>0</td>\n",
       "      <td>0</td>\n",
       "      <td>0</td>\n",
       "      <td>1</td>\n",
       "      <td>0</td>\n",
       "      <td>0</td>\n",
       "      <td>0</td>\n",
       "      <td>0</td>\n",
       "      <td>0</td>\n",
       "      <td>0</td>\n",
       "      <td>0</td>\n",
       "      <td>0</td>\n",
       "      <td>0</td>\n",
       "      <td>0</td>\n",
       "      <td>1</td>\n",
       "      <td>0</td>\n",
       "      <td>0</td>\n",
       "      <td>0</td>\n",
       "      <td>0</td>\n",
       "      <td>0</td>\n",
       "      <td>0</td>\n",
       "      <td>0</td>\n",
       "      <td>0</td>\n",
       "      <td>0</td>\n",
       "      <td>0</td>\n",
       "      <td>0</td>\n",
       "      <td>0</td>\n",
       "      <td>0</td>\n",
       "      <td>0</td>\n",
       "    </tr>\n",
       "  </tbody>\n",
       "</table>\n",
       "</div>"
      ],
      "text/plain": [
       "   id  channel_type_Department Stores  ...  kmeans_supplier_8  kmeans_supplier_9\n",
       "0   1                               0  ...                  0                  0\n",
       "1   2                               0  ...                  0                  0\n",
       "\n",
       "[2 rows x 54 columns]"
      ]
     },
     "execution_count": 72,
     "metadata": {
      "tags": []
     },
     "output_type": "execute_result"
    }
   ],
   "source": [
    "X_test.head(2)"
   ]
  },
  {
   "cell_type": "markdown",
   "metadata": {
    "colab_type": "text",
    "id": "lGWVhHKA0bS9"
   },
   "source": [
    "**Preserving the 'id' column for later use in submission file**"
   ]
  },
  {
   "cell_type": "code",
   "execution_count": null,
   "metadata": {
    "colab": {},
    "colab_type": "code",
    "id": "9RA9KF6YbDZt"
   },
   "outputs": [],
   "source": [
    "ID = X_test['id']"
   ]
  },
  {
   "cell_type": "code",
   "execution_count": null,
   "metadata": {
    "colab": {},
    "colab_type": "code",
    "id": "bJ1mZSVQbJTm"
   },
   "outputs": [],
   "source": [
    "X_test.drop('id',inplace=True, axis = 1)"
   ]
  },
  {
   "cell_type": "code",
   "execution_count": null,
   "metadata": {
    "colab": {
     "base_uri": "https://localhost:8080/",
     "height": 357
    },
    "colab_type": "code",
    "id": "D3qmsDndazUl",
    "outputId": "82f3a914-115b-4624-c56a-1222b6a43d67"
   },
   "outputs": [
    {
     "data": {
      "text/plain": [
       "Index(['channel_type_Department Stores', 'channel_type_Discount Retailer',\n",
       "       'channel_type_Grocery Stores', 'channel_type_Internet Retailers',\n",
       "       'channel_type_Specialty Retailers', 'channel_type_Supermarkets',\n",
       "       'channel_type_Warehouse Retailers', 'channel_type_Wholesale Retailers',\n",
       "       'kmeans_store_1.0', 'kmeans_store_2.0', 'kmeans_store_3.0',\n",
       "       'kmeans_store_4.0', 'kmeans_store_5.0', 'kmeans_store_6.0',\n",
       "       'kmeans_store_7.0', 'kmeans_store_8.0', 'kmeans_store_9.0',\n",
       "       'kmeans_store_10.0', 'kmeans_store_11.0', 'kmeans_store_12.0',\n",
       "       'kmeans_store_13.0', 'kmeans_store_14.0', 'kmeans_product_1.0',\n",
       "       'kmeans_product_2.0', 'kmeans_product_3.0', 'kmeans_product_4.0',\n",
       "       'kmeans_product_5.0', 'kmeans_product_6.0', 'kmeans_product_7.0',\n",
       "       'kmeans_product_8.0', 'kmeans_product_9.0', 'kmeans_route_2.0',\n",
       "       'kmeans_route_3.0', 'kmeans_route_4.0', 'kmeans_route_5.0',\n",
       "       'kmeans_route_6.0', 'kmeans_route_7.0', 'kmeans_route_8.0',\n",
       "       'kmeans_route_9.0', 'kmeans_route_10.0', 'kmeans_route_11.0',\n",
       "       'kmeans_route_12.0', 'kmeans_route_13.0', 'kmeans_route_14.0',\n",
       "       'kmeans_supplier_1', 'kmeans_supplier_2', 'kmeans_supplier_3',\n",
       "       'kmeans_supplier_4', 'kmeans_supplier_5', 'kmeans_supplier_6',\n",
       "       'kmeans_supplier_7', 'kmeans_supplier_8', 'kmeans_supplier_9'],\n",
       "      dtype='object')"
      ]
     },
     "execution_count": 75,
     "metadata": {
      "tags": []
     },
     "output_type": "execute_result"
    }
   ],
   "source": [
    "X_test.columns"
   ]
  },
  {
   "cell_type": "code",
   "execution_count": null,
   "metadata": {
    "colab": {
     "base_uri": "https://localhost:8080/",
     "height": 340
    },
    "colab_type": "code",
    "id": "bwJ2gaZHa2uE",
    "outputId": "f60477da-b236-4fb9-cbdd-ca359839175d"
   },
   "outputs": [
    {
     "data": {
      "text/plain": [
       "Index(['channel_type_Department Stores', 'channel_type_Discount Retailer',\n",
       "       'channel_type_Grocery Stores', 'channel_type_Internet Retailers',\n",
       "       'channel_type_Specialty Retailers', 'channel_type_Supermarkets',\n",
       "       'channel_type_Warehouse Retailers', 'channel_type_Wholesale Retailers',\n",
       "       'kmeans_store_1', 'kmeans_store_2', 'kmeans_store_3', 'kmeans_store_4',\n",
       "       'kmeans_store_5', 'kmeans_store_6', 'kmeans_store_7', 'kmeans_store_8',\n",
       "       'kmeans_store_9', 'kmeans_store_10', 'kmeans_store_11',\n",
       "       'kmeans_store_12', 'kmeans_store_13', 'kmeans_store_14',\n",
       "       'kmeans_product_1', 'kmeans_product_2', 'kmeans_product_3',\n",
       "       'kmeans_product_4', 'kmeans_product_5', 'kmeans_product_6',\n",
       "       'kmeans_product_7', 'kmeans_product_8', 'kmeans_product_9',\n",
       "       'kmeans_route_2', 'kmeans_route_3', 'kmeans_route_4', 'kmeans_route_5',\n",
       "       'kmeans_route_6', 'kmeans_route_7', 'kmeans_route_8', 'kmeans_route_9',\n",
       "       'kmeans_route_10', 'kmeans_route_11', 'kmeans_route_12',\n",
       "       'kmeans_route_13', 'kmeans_route_14', 'kmeans_supplier_1',\n",
       "       'kmeans_supplier_2', 'kmeans_supplier_3', 'kmeans_supplier_4',\n",
       "       'kmeans_supplier_5', 'kmeans_supplier_6', 'kmeans_supplier_7',\n",
       "       'kmeans_supplier_8', 'kmeans_supplier_9'],\n",
       "      dtype='object')"
      ]
     },
     "execution_count": 76,
     "metadata": {
      "tags": []
     },
     "output_type": "execute_result"
    }
   ],
   "source": [
    "X_train.columns"
   ]
  },
  {
   "cell_type": "code",
   "execution_count": null,
   "metadata": {
    "colab": {
     "base_uri": "https://localhost:8080/",
     "height": 34
    },
    "colab_type": "code",
    "id": "7UokYR4LZD1J",
    "outputId": "9b55fd78-c59d-4c84-a48e-2c0baf28c05f"
   },
   "outputs": [
    {
     "data": {
      "text/plain": [
       "(20815581, 53)"
      ]
     },
     "execution_count": 77,
     "metadata": {
      "tags": []
     },
     "output_type": "execute_result"
    }
   ],
   "source": [
    "X_test.shape"
   ]
  },
  {
   "cell_type": "markdown",
   "metadata": {
    "colab_type": "text",
    "id": "9WVqEz9H0o2v"
   },
   "source": [
    "**Predicting for demand projection of test data**"
   ]
  },
  {
   "cell_type": "code",
   "execution_count": null,
   "metadata": {
    "colab": {},
    "colab_type": "code",
    "id": "_hcXzYo_yrkk"
   },
   "outputs": [],
   "source": [
    "ypred_test = clf.predict(X_test)"
   ]
  },
  {
   "cell_type": "code",
   "execution_count": null,
   "metadata": {
    "colab": {
     "base_uri": "https://localhost:8080/",
     "height": 34
    },
    "colab_type": "code",
    "id": "WX3QoUoIZDtI",
    "outputId": "ae7e20fc-5db4-48f8-9d8d-b837fe4fb9a2"
   },
   "outputs": [
    {
     "data": {
      "text/plain": [
       "20815581"
      ]
     },
     "execution_count": 79,
     "metadata": {
      "tags": []
     },
     "output_type": "execute_result"
    }
   ],
   "source": [
    "len(ypred_test)"
   ]
  },
  {
   "cell_type": "code",
   "execution_count": null,
   "metadata": {
    "colab": {
     "base_uri": "https://localhost:8080/",
     "height": 34
    },
    "colab_type": "code",
    "id": "G_XaVQ4PWt9i",
    "outputId": "24430bc1-7ee9-4487-9f96-e94080f85212"
   },
   "outputs": [
    {
     "data": {
      "text/plain": [
       "20815581"
      ]
     },
     "execution_count": 80,
     "metadata": {
      "tags": []
     },
     "output_type": "execute_result"
    }
   ],
   "source": [
    "len(ID)"
   ]
  },
  {
   "cell_type": "code",
   "execution_count": null,
   "metadata": {
    "colab": {},
    "colab_type": "code",
    "id": "ikXh7S3Ab4vn"
   },
   "outputs": [],
   "source": [
    "pred = np.array(ypred_test)"
   ]
  },
  {
   "cell_type": "code",
   "execution_count": null,
   "metadata": {
    "colab": {},
    "colab_type": "code",
    "id": "CWrA_jKub4r-"
   },
   "outputs": [],
   "source": [
    "id1 = np.array(ID)"
   ]
  },
  {
   "cell_type": "code",
   "execution_count": null,
   "metadata": {
    "colab": {},
    "colab_type": "code",
    "id": "Sxd3CHffcVEK"
   },
   "outputs": [],
   "source": [
    "dataset = pd.DataFrame({'id': id1,'demand_projection': pred}, columns=['id', 'demand_projection'])"
   ]
  },
  {
   "cell_type": "code",
   "execution_count": null,
   "metadata": {
    "colab": {
     "base_uri": "https://localhost:8080/",
     "height": 173
    },
    "colab_type": "code",
    "id": "MBOsUBfscVAw",
    "outputId": "ecd2ccef-1eb0-40ff-bbbb-a7dc9e07e01d"
   },
   "outputs": [
    {
     "data": {
      "text/html": [
       "<div>\n",
       "<style scoped>\n",
       "    .dataframe tbody tr th:only-of-type {\n",
       "        vertical-align: middle;\n",
       "    }\n",
       "\n",
       "    .dataframe tbody tr th {\n",
       "        vertical-align: top;\n",
       "    }\n",
       "\n",
       "    .dataframe thead th {\n",
       "        text-align: right;\n",
       "    }\n",
       "</style>\n",
       "<table border=\"1\" class=\"dataframe\">\n",
       "  <thead>\n",
       "    <tr style=\"text-align: right;\">\n",
       "      <th></th>\n",
       "      <th>id</th>\n",
       "      <th>demand_projection</th>\n",
       "    </tr>\n",
       "  </thead>\n",
       "  <tbody>\n",
       "    <tr>\n",
       "      <th>0</th>\n",
       "      <td>1</td>\n",
       "      <td>7.971458</td>\n",
       "    </tr>\n",
       "    <tr>\n",
       "      <th>1</th>\n",
       "      <td>2</td>\n",
       "      <td>7.971458</td>\n",
       "    </tr>\n",
       "    <tr>\n",
       "      <th>2</th>\n",
       "      <td>3</td>\n",
       "      <td>7.971458</td>\n",
       "    </tr>\n",
       "    <tr>\n",
       "      <th>3</th>\n",
       "      <td>4</td>\n",
       "      <td>7.971458</td>\n",
       "    </tr>\n",
       "  </tbody>\n",
       "</table>\n",
       "</div>"
      ],
      "text/plain": [
       "   id  demand_projection\n",
       "0   1           7.971458\n",
       "1   2           7.971458\n",
       "2   3           7.971458\n",
       "3   4           7.971458"
      ]
     },
     "execution_count": 84,
     "metadata": {
      "tags": []
     },
     "output_type": "execute_result"
    }
   ],
   "source": [
    "dataset.head(4)"
   ]
  },
  {
   "cell_type": "code",
   "execution_count": null,
   "metadata": {
    "colab": {
     "base_uri": "https://localhost:8080/",
     "height": 173
    },
    "colab_type": "code",
    "id": "OGqu0X2zcU9S",
    "outputId": "ea45d6b9-3c78-49d7-dd21-e4768a1c4687"
   },
   "outputs": [
    {
     "data": {
      "text/html": [
       "<div>\n",
       "<style scoped>\n",
       "    .dataframe tbody tr th:only-of-type {\n",
       "        vertical-align: middle;\n",
       "    }\n",
       "\n",
       "    .dataframe tbody tr th {\n",
       "        vertical-align: top;\n",
       "    }\n",
       "\n",
       "    .dataframe thead th {\n",
       "        text-align: right;\n",
       "    }\n",
       "</style>\n",
       "<table border=\"1\" class=\"dataframe\">\n",
       "  <thead>\n",
       "    <tr style=\"text-align: right;\">\n",
       "      <th></th>\n",
       "      <th>id</th>\n",
       "      <th>demand_projection</th>\n",
       "    </tr>\n",
       "  </thead>\n",
       "  <tbody>\n",
       "    <tr>\n",
       "      <th>20815577</th>\n",
       "      <td>20815578</td>\n",
       "      <td>6.534076</td>\n",
       "    </tr>\n",
       "    <tr>\n",
       "      <th>20815578</th>\n",
       "      <td>20815579</td>\n",
       "      <td>6.534076</td>\n",
       "    </tr>\n",
       "    <tr>\n",
       "      <th>20815579</th>\n",
       "      <td>20815580</td>\n",
       "      <td>6.534076</td>\n",
       "    </tr>\n",
       "    <tr>\n",
       "      <th>20815580</th>\n",
       "      <td>20815581</td>\n",
       "      <td>6.534076</td>\n",
       "    </tr>\n",
       "  </tbody>\n",
       "</table>\n",
       "</div>"
      ],
      "text/plain": [
       "                id  demand_projection\n",
       "20815577  20815578           6.534076\n",
       "20815578  20815579           6.534076\n",
       "20815579  20815580           6.534076\n",
       "20815580  20815581           6.534076"
      ]
     },
     "execution_count": 85,
     "metadata": {
      "tags": []
     },
     "output_type": "execute_result"
    }
   ],
   "source": [
    "dataset.tail(4)"
   ]
  },
  {
   "cell_type": "markdown",
   "metadata": {},
   "source": [
    "#### Test Predictions Submission files"
   ]
  },
  {
   "cell_type": "code",
   "execution_count": null,
   "metadata": {
    "colab": {},
    "colab_type": "code",
    "id": "45R2OnV3c311"
   },
   "outputs": [],
   "source": [
    "dataset.to_csv(\"final_sub.csv\", index=False)\n"
   ]
  },
  {
   "cell_type": "code",
   "execution_count": null,
   "metadata": {
    "colab": {},
    "colab_type": "code",
    "id": "Xfwc7rc3h0wA"
   },
   "outputs": [],
   "source": [
    "dataset2 = dataset.copy()"
   ]
  },
  {
   "cell_type": "markdown",
   "metadata": {
    "colab_type": "text",
    "id": "8CNPf9Zx07uY"
   },
   "source": [
    "To decrease the file size, restricting the decimal places"
   ]
  },
  {
   "cell_type": "code",
   "execution_count": null,
   "metadata": {
    "colab": {},
    "colab_type": "code",
    "id": "58CTlaqYh6D8"
   },
   "outputs": [],
   "source": [
    "dataset2['demand_projection'] = dataset2['demand_projection'].round(decimals = 0)"
   ]
  },
  {
   "cell_type": "code",
   "execution_count": null,
   "metadata": {
    "colab": {
     "base_uri": "https://localhost:8080/",
     "height": 111
    },
    "colab_type": "code",
    "id": "4-Xtt7W2iVbR",
    "outputId": "7e0ffe36-6282-435e-aca5-649bf8aeda93"
   },
   "outputs": [
    {
     "data": {
      "text/html": [
       "<div>\n",
       "<style scoped>\n",
       "    .dataframe tbody tr th:only-of-type {\n",
       "        vertical-align: middle;\n",
       "    }\n",
       "\n",
       "    .dataframe tbody tr th {\n",
       "        vertical-align: top;\n",
       "    }\n",
       "\n",
       "    .dataframe thead th {\n",
       "        text-align: right;\n",
       "    }\n",
       "</style>\n",
       "<table border=\"1\" class=\"dataframe\">\n",
       "  <thead>\n",
       "    <tr style=\"text-align: right;\">\n",
       "      <th></th>\n",
       "      <th>id</th>\n",
       "      <th>demand_projection</th>\n",
       "    </tr>\n",
       "  </thead>\n",
       "  <tbody>\n",
       "    <tr>\n",
       "      <th>0</th>\n",
       "      <td>1</td>\n",
       "      <td>8.0</td>\n",
       "    </tr>\n",
       "    <tr>\n",
       "      <th>1</th>\n",
       "      <td>2</td>\n",
       "      <td>8.0</td>\n",
       "    </tr>\n",
       "  </tbody>\n",
       "</table>\n",
       "</div>"
      ],
      "text/plain": [
       "   id  demand_projection\n",
       "0   1                8.0\n",
       "1   2                8.0"
      ]
     },
     "execution_count": 88,
     "metadata": {
      "tags": []
     },
     "output_type": "execute_result"
    }
   ],
   "source": [
    "dataset2.head(2)"
   ]
  },
  {
   "cell_type": "code",
   "execution_count": null,
   "metadata": {
    "colab": {},
    "colab_type": "code",
    "id": "qHd0PWA3ieDC"
   },
   "outputs": [],
   "source": [
    "dataset2.to_csv(\"final_sub2.csv\", index=False)"
   ]
  }
 ],
 "metadata": {
  "accelerator": "GPU",
  "colab": {
   "collapsed_sections": [],
   "machine_shape": "hm",
   "name": "Copy of 19_Dec.ipynb",
   "provenance": []
  },
  "kernelspec": {
   "display_name": "Python 3",
   "language": "python",
   "name": "python3"
  },
  "language_info": {
   "codemirror_mode": {
    "name": "ipython",
    "version": 3
   },
   "file_extension": ".py",
   "mimetype": "text/x-python",
   "name": "python",
   "nbconvert_exporter": "python",
   "pygments_lexer": "ipython3",
   "version": "3.7.3"
  }
 },
 "nbformat": 4,
 "nbformat_minor": 1
}
